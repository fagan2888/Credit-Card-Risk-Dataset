{
 "cells": [
  {
   "cell_type": "code",
   "execution_count": 2,
   "metadata": {},
   "outputs": [
    {
     "data": {
      "text/html": [
       "<div>\n",
       "<style scoped>\n",
       "    .dataframe tbody tr th:only-of-type {\n",
       "        vertical-align: middle;\n",
       "    }\n",
       "\n",
       "    .dataframe tbody tr th {\n",
       "        vertical-align: top;\n",
       "    }\n",
       "\n",
       "    .dataframe thead th {\n",
       "        text-align: right;\n",
       "    }\n",
       "</style>\n",
       "<table border=\"1\" class=\"dataframe\">\n",
       "  <thead>\n",
       "    <tr style=\"text-align: right;\">\n",
       "      <th></th>\n",
       "      <th>Unique Applicant ID</th>\n",
       "      <th>Age</th>\n",
       "      <th>Years at Employer</th>\n",
       "      <th>Years at Address</th>\n",
       "      <th>Income</th>\n",
       "      <th>Credit Card Debt</th>\n",
       "      <th>Automobile Debt</th>\n",
       "      <th>Outcomes</th>\n",
       "      <th>Eggertopia Scores</th>\n",
       "    </tr>\n",
       "  </thead>\n",
       "  <tbody>\n",
       "    <tr>\n",
       "      <td>0</td>\n",
       "      <td>1</td>\n",
       "      <td>-0.260650</td>\n",
       "      <td>0.114167</td>\n",
       "      <td>-0.778815</td>\n",
       "      <td>-0.221391</td>\n",
       "      <td>-0.011446</td>\n",
       "      <td>0.211894</td>\n",
       "      <td>0</td>\n",
       "      <td>215.227394</td>\n",
       "    </tr>\n",
       "    <tr>\n",
       "      <td>1</td>\n",
       "      <td>2</td>\n",
       "      <td>-0.010718</td>\n",
       "      <td>0.495792</td>\n",
       "      <td>1.139494</td>\n",
       "      <td>0.361981</td>\n",
       "      <td>-3.184888</td>\n",
       "      <td>-1.506080</td>\n",
       "      <td>1</td>\n",
       "      <td>4387.395317</td>\n",
       "    </tr>\n",
       "    <tr>\n",
       "      <td>2</td>\n",
       "      <td>3</td>\n",
       "      <td>0.369496</td>\n",
       "      <td>0.567691</td>\n",
       "      <td>-1.121509</td>\n",
       "      <td>0.262468</td>\n",
       "      <td>-2.106823</td>\n",
       "      <td>-0.205043</td>\n",
       "      <td>1</td>\n",
       "      <td>3653.976974</td>\n",
       "    </tr>\n",
       "    <tr>\n",
       "      <td>3</td>\n",
       "      <td>4</td>\n",
       "      <td>-0.729186</td>\n",
       "      <td>-1.067134</td>\n",
       "      <td>1.708913</td>\n",
       "      <td>-0.595191</td>\n",
       "      <td>0.505837</td>\n",
       "      <td>0.531282</td>\n",
       "      <td>0</td>\n",
       "      <td>3005.809349</td>\n",
       "    </tr>\n",
       "    <tr>\n",
       "      <td>4</td>\n",
       "      <td>5</td>\n",
       "      <td>-0.250083</td>\n",
       "      <td>-0.166253</td>\n",
       "      <td>-0.881336</td>\n",
       "      <td>-0.490361</td>\n",
       "      <td>0.530939</td>\n",
       "      <td>0.800374</td>\n",
       "      <td>0</td>\n",
       "      <td>176.383592</td>\n",
       "    </tr>\n",
       "    <tr>\n",
       "      <td>...</td>\n",
       "      <td>...</td>\n",
       "      <td>...</td>\n",
       "      <td>...</td>\n",
       "      <td>...</td>\n",
       "      <td>...</td>\n",
       "      <td>...</td>\n",
       "      <td>...</td>\n",
       "      <td>...</td>\n",
       "      <td>...</td>\n",
       "    </tr>\n",
       "    <tr>\n",
       "      <td>195</td>\n",
       "      <td>196</td>\n",
       "      <td>0.917975</td>\n",
       "      <td>0.684569</td>\n",
       "      <td>-0.318363</td>\n",
       "      <td>0.213191</td>\n",
       "      <td>-0.504262</td>\n",
       "      <td>-0.671432</td>\n",
       "      <td>0</td>\n",
       "      <td>665.975665</td>\n",
       "    </tr>\n",
       "    <tr>\n",
       "      <td>196</td>\n",
       "      <td>197</td>\n",
       "      <td>-1.227163</td>\n",
       "      <td>-0.117292</td>\n",
       "      <td>1.861881</td>\n",
       "      <td>-0.647416</td>\n",
       "      <td>0.570020</td>\n",
       "      <td>0.661930</td>\n",
       "      <td>0</td>\n",
       "      <td>860.723089</td>\n",
       "    </tr>\n",
       "    <tr>\n",
       "      <td>197</td>\n",
       "      <td>198</td>\n",
       "      <td>-1.182574</td>\n",
       "      <td>-0.922105</td>\n",
       "      <td>-0.755907</td>\n",
       "      <td>-0.443476</td>\n",
       "      <td>0.451202</td>\n",
       "      <td>0.572421</td>\n",
       "      <td>0</td>\n",
       "      <td>1380.840050</td>\n",
       "    </tr>\n",
       "    <tr>\n",
       "      <td>198</td>\n",
       "      <td>199</td>\n",
       "      <td>0.523605</td>\n",
       "      <td>1.192563</td>\n",
       "      <td>-0.144719</td>\n",
       "      <td>1.395060</td>\n",
       "      <td>-0.000993</td>\n",
       "      <td>-2.602703</td>\n",
       "      <td>0</td>\n",
       "      <td>457.662212</td>\n",
       "    </tr>\n",
       "    <tr>\n",
       "      <td>199</td>\n",
       "      <td>200</td>\n",
       "      <td>1.366064</td>\n",
       "      <td>1.151475</td>\n",
       "      <td>-1.239804</td>\n",
       "      <td>1.561383</td>\n",
       "      <td>0.515690</td>\n",
       "      <td>-0.012279</td>\n",
       "      <td>0</td>\n",
       "      <td>318.892999</td>\n",
       "    </tr>\n",
       "  </tbody>\n",
       "</table>\n",
       "<p>200 rows × 9 columns</p>\n",
       "</div>"
      ],
      "text/plain": [
       "     Unique Applicant ID        Age   Years at Employer  Years at Address  \\\n",
       "0                       1 -0.260650            0.114167         -0.778815   \n",
       "1                       2 -0.010718            0.495792          1.139494   \n",
       "2                       3  0.369496            0.567691         -1.121509   \n",
       "3                       4 -0.729186           -1.067134          1.708913   \n",
       "4                       5 -0.250083           -0.166253         -0.881336   \n",
       "..                    ...       ...                 ...               ...   \n",
       "195                   196  0.917975            0.684569         -0.318363   \n",
       "196                   197 -1.227163           -0.117292          1.861881   \n",
       "197                   198 -1.182574           -0.922105         -0.755907   \n",
       "198                   199  0.523605            1.192563         -0.144719   \n",
       "199                   200  1.366064            1.151475         -1.239804   \n",
       "\n",
       "       Income  Credit Card Debt   Automobile Debt  Outcomes  \\\n",
       "0   -0.221391          -0.011446         0.211894         0   \n",
       "1    0.361981          -3.184888        -1.506080         1   \n",
       "2    0.262468          -2.106823        -0.205043         1   \n",
       "3   -0.595191           0.505837         0.531282         0   \n",
       "4   -0.490361           0.530939         0.800374         0   \n",
       "..        ...                ...              ...       ...   \n",
       "195  0.213191          -0.504262        -0.671432         0   \n",
       "196 -0.647416           0.570020         0.661930         0   \n",
       "197 -0.443476           0.451202         0.572421         0   \n",
       "198  1.395060          -0.000993        -2.602703         0   \n",
       "199  1.561383           0.515690        -0.012279         0   \n",
       "\n",
       "     Eggertopia Scores   \n",
       "0            215.227394  \n",
       "1           4387.395317  \n",
       "2           3653.976974  \n",
       "3           3005.809349  \n",
       "4            176.383592  \n",
       "..                  ...  \n",
       "195          665.975665  \n",
       "196          860.723089  \n",
       "197         1380.840050  \n",
       "198          457.662212  \n",
       "199          318.892999  \n",
       "\n",
       "[200 rows x 9 columns]"
      ]
     },
     "execution_count": 2,
     "metadata": {},
     "output_type": "execute_result"
    }
   ],
   "source": [
    "#load required packages\n",
    "import pandas as pd\n",
    "import numpy as np\n",
    "import statsmodels.api as sm\n",
    "from sklearn.svm import SVC\n",
    "import statsmodels.formula.api as smf\n",
    "from sklearn import datasets, linear_model, metrics, neighbors, model_selection\n",
    "import matplotlib.pyplot as plt\n",
    "import seaborn as sns\n",
    "from math import sqrt\n",
    "\n",
    "from sklearn.preprocessing import StandardScaler\n",
    "from sklearn.linear_model import LinearRegression\n",
    "import seaborn as sns\n",
    "\n",
    "\n",
    "%matplotlib inline\n",
    "#xls = pd.ExcelFile('')\n",
    "df1 = pd.read_excel('PS5 - Credit Card Risk Data - Nov 2019 .xlsx', 'Std_training')\n",
    "df1.rename(columns= {'Outcomes: Default = 1':'Outcomes'}, inplace = True)\n",
    "df1"
   ]
  },
  {
   "cell_type": "code",
   "execution_count": 3,
   "metadata": {},
   "outputs": [
    {
     "data": {
      "text/plain": [
       "<matplotlib.axes._subplots.AxesSubplot at 0x1c26748c90>"
      ]
     },
     "execution_count": 3,
     "metadata": {},
     "output_type": "execute_result"
    },
    {
     "data": {
      "image/png": "[encoded data removed]",
      "text/plain": [
       "<Figure size 432x288 with 2 Axes>"
      ]
     },
     "metadata": {
      "needs_background": "light"
     },
     "output_type": "display_data"
    }
   ],
   "source": [
    "#checking for null values in the data\n",
    "sns.heatmap(df1.isnull())"
   ]
  },
  {
   "cell_type": "code",
   "execution_count": 4,
   "metadata": {},
   "outputs": [],
   "source": [
    "#make numpy arrays \n",
    "X_train = np.array(df1[[' Age', ' Years at Employer', 'Years at Address', 'Income', 'Credit Card Debt ', 'Automobile Debt']])\n",
    "y_train = np.array(df1['Outcomes'])"
   ]
  },
  {
   "cell_type": "code",
   "execution_count": 5,
   "metadata": {},
   "outputs": [],
   "source": [
    "#create test and training sets\n",
    "#X_train, X_test, y_train, y_test = model_selection.train_test_split(X, Y, test_size=0.3, random_state=1)"
   ]
  },
  {
   "cell_type": "code",
   "execution_count": 6,
   "metadata": {},
   "outputs": [],
   "source": [
    "sk_logistic = linear_model.LogisticRegression(solver='liblinear').fit(X_train, y_train)"
   ]
  },
  {
   "cell_type": "code",
   "execution_count": 7,
   "metadata": {},
   "outputs": [
    {
     "data": {
      "text/plain": [
       "array([0, 1, 1, 1, 0, 1, 0, 0, 0, 0, 1, 0, 0, 0, 0, 0, 0, 0, 0, 0, 0, 0,\n",
       "       0, 0, 0, 0, 0, 0, 0, 0, 1, 0, 0, 0, 0, 0, 0, 0, 1, 0, 0, 0, 0, 0,\n",
       "       0, 0, 1, 0, 0, 0, 1, 0, 0, 0, 0, 0, 0, 0, 0, 0, 0, 0, 1, 1, 0, 1,\n",
       "       0, 0, 0, 1, 0, 0, 0, 0, 0, 0, 0, 0, 0, 0, 0, 0, 0, 0, 0, 0, 1, 1,\n",
       "       0, 0, 0, 0, 0, 1, 0, 0, 0, 0, 0, 0, 0, 0, 0, 0, 0, 0, 0, 0, 0, 0,\n",
       "       0, 1, 0, 0, 0, 1, 0, 0, 0, 0, 0, 0, 0, 0, 0, 1, 0, 0, 0, 1, 0, 1,\n",
       "       0, 0, 0, 1, 0, 0, 0, 0, 0, 0, 0, 0, 0, 0, 0, 1, 0, 0, 0, 0, 0, 1,\n",
       "       0, 1, 0, 0, 1, 0, 0, 0, 0, 0, 0, 0, 0, 0, 0, 0, 1, 1, 0, 0, 0, 1,\n",
       "       0, 0, 0, 0, 0, 0, 0, 0, 0, 0, 1, 0, 0, 0, 0, 0, 0, 0, 0, 0, 0, 0,\n",
       "       0, 0])"
      ]
     },
     "execution_count": 7,
     "metadata": {},
     "output_type": "execute_result"
    }
   ],
   "source": [
    "sk_logistic.predict(X_train)"
   ]
  },
  {
   "cell_type": "code",
   "execution_count": 8,
   "metadata": {},
   "outputs": [],
   "source": [
    "pos_prob_train = sk_logistic.predict_proba(X_train)[:,1]\n",
    "fpr, tpr, thresholds = metrics.roc_curve(y_train, pos_prob_train, drop_intermediate=False)"
   ]
  },
  {
   "cell_type": "code",
   "execution_count": 9,
   "metadata": {},
   "outputs": [
    {
     "data": {
      "image/png": "[encoded data removed]",
      "text/plain": [
       "<Figure size 432x288 with 1 Axes>"
      ]
     },
     "metadata": {
      "needs_background": "light"
     },
     "output_type": "display_data"
    }
   ],
   "source": [
    "roc = sns.lineplot(x=fpr, y=tpr, ci=False)\n",
    "roc.set(xlabel='FP Rate', ylabel='TP Rate', title='ROC Curve', xlim=(-0.01,1),ylim=(0,1.05))\n",
    "plt.show()"
   ]
  },
  {
   "cell_type": "code",
   "execution_count": 10,
   "metadata": {},
   "outputs": [
    {
     "name": "stdout",
     "output_type": "stream",
     "text": [
      "Training AUC:  0.85\n"
     ]
    }
   ],
   "source": [
    "#Get the AUC score for training data\n",
    "auc_train = metrics.roc_auc_score(y_train, pos_prob_train)\n",
    "#print results\n",
    "print(\"Training AUC: \", round(auc_train, 3))"
   ]
  },
  {
   "cell_type": "code",
   "execution_count": 11,
   "metadata": {},
   "outputs": [
    {
     "data": {
      "text/plain": [
       "array([[-0.2002308 , -1.49191799,  0.23512215, -0.69304227, -1.34885885,\n",
       "        -0.45832751]])"
      ]
     },
     "execution_count": 11,
     "metadata": {},
     "output_type": "execute_result"
    }
   ],
   "source": [
    "sk_logistic.coef_"
   ]
  },
  {
   "cell_type": "code",
   "execution_count": 12,
   "metadata": {},
   "outputs": [
    {
     "data": {
      "text/plain": [
       "array([-1.52928413])"
      ]
     },
     "execution_count": 12,
     "metadata": {},
     "output_type": "execute_result"
    }
   ],
   "source": [
    "sk_logistic.intercept_"
   ]
  },
  {
   "cell_type": "code",
   "execution_count": 13,
   "metadata": {},
   "outputs": [],
   "source": [
    "sk_logistic.coef_ = np.array([[-0.7999909 , -2.99999999,  0.90212815, -1.08408227, -2.09999985,\n",
    "        -1.99999959]])"
   ]
  },
  {
   "cell_type": "code",
   "execution_count": 14,
   "metadata": {},
   "outputs": [
    {
     "name": "stdout",
     "output_type": "stream",
     "text": [
      "Training AUC:  0.834\n"
     ]
    }
   ],
   "source": [
    "poss_prob_train = sk_logistic.predict_proba(X_train)[:,1]\n",
    "#Get the AUC score for training data\n",
    "auc_train = metrics.roc_auc_score(y_train, poss_prob_train)\n",
    "#print results\n",
    "print(\"Training AUC: \", round(auc_train, 3))"
   ]
  },
  {
   "cell_type": "code",
   "execution_count": 15,
   "metadata": {},
   "outputs": [],
   "source": [
    "fpr, tpr, thresholds = metrics.roc_curve(y_train, poss_prob_train, drop_intermediate=False)"
   ]
  },
  {
   "cell_type": "code",
   "execution_count": 16,
   "metadata": {},
   "outputs": [
    {
     "data": {
      "image/png": "[encoded data removed]",
      "text/plain": [
       "<Figure size 432x288 with 1 Axes>"
      ]
     },
     "metadata": {
      "needs_background": "light"
     },
     "output_type": "display_data"
    }
   ],
   "source": [
    "roc = sns.lineplot(x=fpr, y=tpr, ci=False)\n",
    "roc.set(xlabel='FP Rate', ylabel='TP Rate', title='ROC Curve', xlim=(-0.01,1),ylim=(0,1.05))\n",
    "plt.show()"
   ]
  },
  {
   "cell_type": "code",
   "execution_count": 17,
   "metadata": {},
   "outputs": [
    {
     "data": {
      "text/html": [
       "<div>\n",
       "<style scoped>\n",
       "    .dataframe tbody tr th:only-of-type {\n",
       "        vertical-align: middle;\n",
       "    }\n",
       "\n",
       "    .dataframe tbody tr th {\n",
       "        vertical-align: top;\n",
       "    }\n",
       "\n",
       "    .dataframe thead th {\n",
       "        text-align: right;\n",
       "    }\n",
       "</style>\n",
       "<table border=\"1\" class=\"dataframe\">\n",
       "  <thead>\n",
       "    <tr style=\"text-align: right;\">\n",
       "      <th></th>\n",
       "      <th>Unique Applicant ID</th>\n",
       "      <th>Age</th>\n",
       "      <th>Years at Employer</th>\n",
       "      <th>Years at Address</th>\n",
       "      <th>Income</th>\n",
       "      <th>Credit Card Debt</th>\n",
       "      <th>Automobile Debt</th>\n",
       "      <th>Outcomes</th>\n",
       "      <th>Eggertopia Scores</th>\n",
       "      <th>Hybrid1</th>\n",
       "      <th>Hybrid2</th>\n",
       "      <th>Hybrid3</th>\n",
       "    </tr>\n",
       "  </thead>\n",
       "  <tbody>\n",
       "    <tr>\n",
       "      <td>0</td>\n",
       "      <td>1</td>\n",
       "      <td>-0.260650</td>\n",
       "      <td>0.114167</td>\n",
       "      <td>-0.778815</td>\n",
       "      <td>-0.221391</td>\n",
       "      <td>-0.011446</td>\n",
       "      <td>0.211894</td>\n",
       "      <td>0</td>\n",
       "      <td>215.227394</td>\n",
       "      <td>-0.232836</td>\n",
       "      <td>0.326061</td>\n",
       "      <td>0.334675</td>\n",
       "    </tr>\n",
       "    <tr>\n",
       "      <td>1</td>\n",
       "      <td>2</td>\n",
       "      <td>-0.010718</td>\n",
       "      <td>0.495792</td>\n",
       "      <td>1.139494</td>\n",
       "      <td>0.361981</td>\n",
       "      <td>-3.184888</td>\n",
       "      <td>-1.506080</td>\n",
       "      <td>1</td>\n",
       "      <td>4387.395317</td>\n",
       "      <td>-2.822907</td>\n",
       "      <td>-1.010287</td>\n",
       "      <td>-0.009406</td>\n",
       "    </tr>\n",
       "    <tr>\n",
       "      <td>2</td>\n",
       "      <td>3</td>\n",
       "      <td>0.369496</td>\n",
       "      <td>0.567691</td>\n",
       "      <td>-1.121509</td>\n",
       "      <td>0.262468</td>\n",
       "      <td>-2.106823</td>\n",
       "      <td>-0.205043</td>\n",
       "      <td>1</td>\n",
       "      <td>3653.976974</td>\n",
       "      <td>-1.844355</td>\n",
       "      <td>0.362648</td>\n",
       "      <td>-0.329464</td>\n",
       "    </tr>\n",
       "    <tr>\n",
       "      <td>3</td>\n",
       "      <td>4</td>\n",
       "      <td>-0.729186</td>\n",
       "      <td>-1.067134</td>\n",
       "      <td>1.708913</td>\n",
       "      <td>-0.595191</td>\n",
       "      <td>0.505837</td>\n",
       "      <td>0.531282</td>\n",
       "      <td>0</td>\n",
       "      <td>3005.809349</td>\n",
       "      <td>-0.089353</td>\n",
       "      <td>-0.535852</td>\n",
       "      <td>-0.426696</td>\n",
       "    </tr>\n",
       "    <tr>\n",
       "      <td>4</td>\n",
       "      <td>5</td>\n",
       "      <td>-0.250083</td>\n",
       "      <td>-0.166253</td>\n",
       "      <td>-0.881336</td>\n",
       "      <td>-0.490361</td>\n",
       "      <td>0.530939</td>\n",
       "      <td>0.800374</td>\n",
       "      <td>0</td>\n",
       "      <td>176.383592</td>\n",
       "      <td>0.040578</td>\n",
       "      <td>0.634121</td>\n",
       "      <td>0.283755</td>\n",
       "    </tr>\n",
       "    <tr>\n",
       "      <td>...</td>\n",
       "      <td>...</td>\n",
       "      <td>...</td>\n",
       "      <td>...</td>\n",
       "      <td>...</td>\n",
       "      <td>...</td>\n",
       "      <td>...</td>\n",
       "      <td>...</td>\n",
       "      <td>...</td>\n",
       "      <td>...</td>\n",
       "      <td>...</td>\n",
       "      <td>...</td>\n",
       "      <td>...</td>\n",
       "    </tr>\n",
       "    <tr>\n",
       "      <td>195</td>\n",
       "      <td>196</td>\n",
       "      <td>0.917975</td>\n",
       "      <td>0.684569</td>\n",
       "      <td>-0.318363</td>\n",
       "      <td>0.213191</td>\n",
       "      <td>-0.504262</td>\n",
       "      <td>-0.671432</td>\n",
       "      <td>0</td>\n",
       "      <td>665.975665</td>\n",
       "      <td>-0.291071</td>\n",
       "      <td>0.013137</td>\n",
       "      <td>-2.883417</td>\n",
       "    </tr>\n",
       "    <tr>\n",
       "      <td>196</td>\n",
       "      <td>197</td>\n",
       "      <td>-1.227163</td>\n",
       "      <td>-0.117292</td>\n",
       "      <td>1.861881</td>\n",
       "      <td>-0.647416</td>\n",
       "      <td>0.570020</td>\n",
       "      <td>0.661930</td>\n",
       "      <td>0</td>\n",
       "      <td>860.723089</td>\n",
       "      <td>-0.077396</td>\n",
       "      <td>0.544638</td>\n",
       "      <td>-0.659099</td>\n",
       "    </tr>\n",
       "    <tr>\n",
       "      <td>197</td>\n",
       "      <td>198</td>\n",
       "      <td>-1.182574</td>\n",
       "      <td>-0.922105</td>\n",
       "      <td>-0.755907</td>\n",
       "      <td>-0.443476</td>\n",
       "      <td>0.451202</td>\n",
       "      <td>0.572421</td>\n",
       "      <td>0</td>\n",
       "      <td>1380.840050</td>\n",
       "      <td>0.007726</td>\n",
       "      <td>-0.349685</td>\n",
       "      <td>1.564444</td>\n",
       "    </tr>\n",
       "    <tr>\n",
       "      <td>198</td>\n",
       "      <td>199</td>\n",
       "      <td>0.523605</td>\n",
       "      <td>1.192563</td>\n",
       "      <td>-0.144719</td>\n",
       "      <td>1.395060</td>\n",
       "      <td>-0.000993</td>\n",
       "      <td>-2.602703</td>\n",
       "      <td>0</td>\n",
       "      <td>457.662212</td>\n",
       "      <td>1.394067</td>\n",
       "      <td>-1.410139</td>\n",
       "      <td>-3.618090</td>\n",
       "    </tr>\n",
       "    <tr>\n",
       "      <td>199</td>\n",
       "      <td>200</td>\n",
       "      <td>1.366064</td>\n",
       "      <td>1.151475</td>\n",
       "      <td>-1.239804</td>\n",
       "      <td>1.561383</td>\n",
       "      <td>0.515690</td>\n",
       "      <td>-0.012279</td>\n",
       "      <td>0</td>\n",
       "      <td>318.892999</td>\n",
       "      <td>2.077074</td>\n",
       "      <td>1.139196</td>\n",
       "      <td>-1.101839</td>\n",
       "    </tr>\n",
       "  </tbody>\n",
       "</table>\n",
       "<p>200 rows × 12 columns</p>\n",
       "</div>"
      ],
      "text/plain": [
       "     Unique Applicant ID        Age   Years at Employer  Years at Address  \\\n",
       "0                       1 -0.260650            0.114167         -0.778815   \n",
       "1                       2 -0.010718            0.495792          1.139494   \n",
       "2                       3  0.369496            0.567691         -1.121509   \n",
       "3                       4 -0.729186           -1.067134          1.708913   \n",
       "4                       5 -0.250083           -0.166253         -0.881336   \n",
       "..                    ...       ...                 ...               ...   \n",
       "195                   196  0.917975            0.684569         -0.318363   \n",
       "196                   197 -1.227163           -0.117292          1.861881   \n",
       "197                   198 -1.182574           -0.922105         -0.755907   \n",
       "198                   199  0.523605            1.192563         -0.144719   \n",
       "199                   200  1.366064            1.151475         -1.239804   \n",
       "\n",
       "       Income  Credit Card Debt   Automobile Debt  Outcomes  \\\n",
       "0   -0.221391          -0.011446         0.211894         0   \n",
       "1    0.361981          -3.184888        -1.506080         1   \n",
       "2    0.262468          -2.106823        -0.205043         1   \n",
       "3   -0.595191           0.505837         0.531282         0   \n",
       "4   -0.490361           0.530939         0.800374         0   \n",
       "..        ...                ...              ...       ...   \n",
       "195  0.213191          -0.504262        -0.671432         0   \n",
       "196 -0.647416           0.570020         0.661930         0   \n",
       "197 -0.443476           0.451202         0.572421         0   \n",
       "198  1.395060          -0.000993        -2.602703         0   \n",
       "199  1.561383           0.515690        -0.012279         0   \n",
       "\n",
       "     Eggertopia Scores    Hybrid1   Hybrid2   Hybrid3  \n",
       "0            215.227394 -0.232836  0.326061  0.334675  \n",
       "1           4387.395317 -2.822907 -1.010287 -0.009406  \n",
       "2           3653.976974 -1.844355  0.362648 -0.329464  \n",
       "3           3005.809349 -0.089353 -0.535852 -0.426696  \n",
       "4            176.383592  0.040578  0.634121  0.283755  \n",
       "..                  ...       ...       ...       ...  \n",
       "195          665.975665 -0.291071  0.013137 -2.883417  \n",
       "196          860.723089 -0.077396  0.544638 -0.659099  \n",
       "197         1380.840050  0.007726 -0.349685  1.564444  \n",
       "198          457.662212  1.394067 -1.410139 -3.618090  \n",
       "199          318.892999  2.077074  1.139196 -1.101839  \n",
       "\n",
       "[200 rows x 12 columns]"
      ]
     },
     "execution_count": 17,
     "metadata": {},
     "output_type": "execute_result"
    }
   ],
   "source": [
    "df1['Hybrid1'] = df1['Income']+df1['Credit Card Debt ']\n",
    "df1['Hybrid2'] = df1['Automobile Debt']+df1[' Years at Employer']\n",
    "df1['Hybrid3'] = df1[' Age']/df1['Years at Address']\n",
    "df1"
   ]
  },
  {
   "cell_type": "code",
   "execution_count": 18,
   "metadata": {},
   "outputs": [],
   "source": [
    "#make numpy arrays \n",
    "X1_train = df1.drop(['Outcomes','Unique Applicant ID '], axis=1).values\n",
    "y1_train = df1['Outcomes'].values\n",
    "hybridmodel = linear_model.LogisticRegression(solver='liblinear').fit(X1_train, y1_train)"
   ]
  },
  {
   "cell_type": "code",
   "execution_count": 19,
   "metadata": {},
   "outputs": [
    {
     "data": {
      "text/plain": [
       "array([0, 1, 1, 0, 0, 1, 0, 0, 0, 0, 1, 0, 1, 0, 0, 0, 0, 1, 0, 0, 0, 0,\n",
       "       0, 0, 1, 0, 0, 0, 0, 0, 1, 0, 0, 0, 0, 0, 0, 0, 1, 0, 0, 0, 0, 0,\n",
       "       0, 0, 1, 1, 0, 1, 1, 0, 1, 0, 0, 0, 0, 0, 0, 0, 0, 0, 1, 1, 0, 1,\n",
       "       0, 0, 0, 1, 0, 0, 1, 1, 0, 0, 0, 0, 0, 0, 0, 0, 1, 1, 0, 0, 0, 0,\n",
       "       0, 0, 0, 0, 0, 0, 1, 0, 0, 0, 0, 0, 0, 1, 0, 1, 0, 1, 0, 1, 1, 0,\n",
       "       0, 0, 0, 1, 0, 1, 0, 0, 0, 0, 1, 0, 0, 0, 0, 1, 0, 0, 0, 1, 1, 0,\n",
       "       0, 0, 0, 1, 1, 0, 0, 1, 1, 0, 0, 0, 0, 0, 1, 1, 0, 0, 0, 0, 0, 0,\n",
       "       0, 1, 0, 1, 0, 0, 0, 1, 0, 0, 0, 0, 1, 0, 0, 0, 0, 1, 0, 0, 0, 0,\n",
       "       0, 0, 1, 1, 0, 0, 0, 0, 0, 0, 1, 0, 1, 0, 0, 0, 0, 1, 0, 0, 0, 0,\n",
       "       0, 0])"
      ]
     },
     "execution_count": 19,
     "metadata": {},
     "output_type": "execute_result"
    }
   ],
   "source": [
    "y1_train"
   ]
  },
  {
   "cell_type": "code",
   "execution_count": 20,
   "metadata": {},
   "outputs": [
    {
     "data": {
      "text/plain": [
       "array([0, 1, 1, 1, 0, 1, 0, 0, 0, 0, 1, 0, 0, 0, 0, 0, 0, 1, 0, 0, 0, 0,\n",
       "       0, 0, 0, 0, 0, 0, 0, 0, 1, 0, 0, 0, 0, 0, 0, 0, 1, 0, 0, 0, 0, 0,\n",
       "       0, 0, 1, 0, 0, 0, 1, 0, 1, 0, 0, 0, 0, 0, 0, 0, 0, 0, 1, 1, 0, 1,\n",
       "       0, 0, 0, 1, 0, 1, 0, 0, 0, 0, 1, 0, 0, 0, 0, 0, 0, 0, 0, 0, 1, 0,\n",
       "       0, 0, 0, 0, 0, 1, 0, 0, 0, 0, 0, 0, 0, 0, 0, 0, 0, 1, 0, 0, 0, 0,\n",
       "       0, 1, 0, 0, 0, 1, 0, 0, 0, 0, 0, 0, 0, 0, 0, 1, 0, 0, 0, 1, 0, 0,\n",
       "       0, 0, 0, 1, 0, 0, 0, 1, 0, 0, 0, 0, 0, 0, 1, 1, 0, 0, 0, 0, 0, 1,\n",
       "       0, 1, 0, 0, 1, 0, 0, 1, 0, 0, 0, 0, 0, 0, 0, 0, 1, 1, 0, 0, 0, 1,\n",
       "       0, 0, 0, 0, 0, 0, 0, 1, 0, 0, 1, 0, 0, 0, 0, 0, 0, 0, 0, 0, 0, 0,\n",
       "       0, 0])"
      ]
     },
     "execution_count": 20,
     "metadata": {},
     "output_type": "execute_result"
    }
   ],
   "source": [
    "hybridmodel.predict(X1_train)"
   ]
  },
  {
   "cell_type": "code",
   "execution_count": 21,
   "metadata": {},
   "outputs": [],
   "source": [
    "prob_train = hybridmodel.predict_proba(X1_train)[:,1]\n",
    "fpr, tpr, thresholds = metrics.roc_curve(y1_train, prob_train, drop_intermediate=False)"
   ]
  },
  {
   "cell_type": "code",
   "execution_count": 22,
   "metadata": {},
   "outputs": [
    {
     "name": "stdout",
     "output_type": "stream",
     "text": [
      "Training AUC:  0.861\n"
     ]
    }
   ],
   "source": [
    "#Get the AUC score for training data\n",
    "auc1_train = metrics.roc_auc_score(y1_train, prob_train)\n",
    "#print results\n",
    "print(\"Training AUC: \", round(auc1_train, 3))"
   ]
  },
  {
   "cell_type": "code",
   "execution_count": 23,
   "metadata": {},
   "outputs": [
    {
     "data": {
      "text/plain": [
       "array([[-3.88395011e-02, -4.96698920e-01,  2.33404738e-01,\n",
       "        -7.45153428e-02, -3.46973686e-01,  1.10743794e-01,\n",
       "         6.23928291e-04, -4.21489029e-01, -3.85955127e-01,\n",
       "        -1.27300021e-05]])"
      ]
     },
     "execution_count": 23,
     "metadata": {},
     "output_type": "execute_result"
    }
   ],
   "source": [
    "hybridmodel.coef_"
   ]
  },
  {
   "cell_type": "code",
   "execution_count": 24,
   "metadata": {},
   "outputs": [],
   "source": [
    "#knn classifier on training data\n",
    "#empty list for auc scores\n",
    "scores = []\n",
    "for i in range(1,10):\n",
    "    knn = neighbors.KNeighborsClassifier(n_neighbors=i).fit(X_train, y_train)\n",
    "    prob = knn.predict_proba(X_train)[:,1]\n",
    "    auc = metrics.roc_auc_score(y_train, prob)\n",
    "    scores.append(auc)"
   ]
  },
  {
   "cell_type": "code",
   "execution_count": 25,
   "metadata": {},
   "outputs": [
    {
     "data": {
      "text/plain": [
       "[1.0,\n",
       " 0.9338666666666666,\n",
       " 0.9032,\n",
       " 0.8840666666666667,\n",
       " 0.8908,\n",
       " 0.8762666666666666,\n",
       " 0.8719333333333333,\n",
       " 0.8690666666666667,\n",
       " 0.8602]"
      ]
     },
     "execution_count": 25,
     "metadata": {},
     "output_type": "execute_result"
    }
   ],
   "source": [
    "scores"
   ]
  },
  {
   "cell_type": "code",
   "execution_count": 26,
   "metadata": {},
   "outputs": [],
   "source": [
    "#knn classifier with k = 5\n",
    "knn = neighbors.KNeighborsClassifier(n_neighbors=5).fit(X_train, y_train)\n",
    "#predict class on training data\n",
    "knn_prob_train = knn.predict_proba(X_train)[:,1]"
   ]
  },
  {
   "cell_type": "code",
   "execution_count": 27,
   "metadata": {},
   "outputs": [
    {
     "data": {
      "text/plain": [
       "0.8908"
      ]
     },
     "execution_count": 27,
     "metadata": {},
     "output_type": "execute_result"
    }
   ],
   "source": [
    "#auc score on training data for knn classifier with k=5\n",
    "metrics.roc_auc_score(y_train, knn_prob_train)"
   ]
  },
  {
   "cell_type": "code",
   "execution_count": 28,
   "metadata": {},
   "outputs": [],
   "source": [
    "#get training predictions with different threshold\n",
    "knn_train_pred = (knn.predict(X_train))\n",
    "#make confusion matrix on training data\n",
    "knn_cf = metrics.confusion_matrix(y_train, knn_train_pred)"
   ]
  },
  {
   "cell_type": "code",
   "execution_count": 29,
   "metadata": {},
   "outputs": [
    {
     "data": {
      "text/plain": [
       "array([[143,   7],\n",
       "       [ 28,  22]])"
      ]
     },
     "execution_count": 29,
     "metadata": {},
     "output_type": "execute_result"
    }
   ],
   "source": [
    "#confusion matrix\n",
    "knn_cf"
   ]
  },
  {
   "cell_type": "code",
   "execution_count": 30,
   "metadata": {},
   "outputs": [
    {
     "name": "stdout",
     "output_type": "stream",
     "text": [
      "True Positives:  22\n",
      "False Positives:  7\n",
      "True Negatives:  143\n",
      "False Negatives:  28\n"
     ]
    }
   ],
   "source": [
    "print(\"True Positives: \", knn_cf[1,1])\n",
    "print(\"False Positives: \", knn_cf[0,1])\n",
    "print(\"True Negatives: \", knn_cf[0,0])\n",
    "print(\"False Negatives: \", knn_cf[1,0])"
   ]
  },
  {
   "cell_type": "code",
   "execution_count": 31,
   "metadata": {},
   "outputs": [
    {
     "name": "stdout",
     "output_type": "stream",
     "text": [
      "Optimum threshold: 0.21\n",
      "Minimum cost: 133000\n"
     ]
    }
   ],
   "source": [
    "thres = [x/100 for x in range(0,100)]\n",
    "cost = 0\n",
    "\n",
    "best_thres = 0.0\n",
    "best_cost = 99999999999999\n",
    "\n",
    "for i, t in enumerate(thres):\n",
    "    knn_train_pred_dt = (knn.predict_proba(X_train)[:,1] >= t).astype(bool)\n",
    "    knn_cf_dt = metrics.confusion_matrix(y_train, knn_train_pred_dt)\n",
    "    cost = (3500*knn_cf_dt[0,1]) + (4000*knn_cf_dt[1,0])\n",
    "    if cost < best_cost:\n",
    "        best_cost = cost\n",
    "        best_thres = t\n",
    "\n",
    "print(\"Optimum threshold:\", best_thres)\n",
    "print(\"Minimum cost:\", best_cost)"
   ]
  },
  {
   "cell_type": "code",
   "execution_count": 32,
   "metadata": {},
   "outputs": [
    {
     "data": {
      "text/plain": [
       "array([[150,   0],\n",
       "       [ 46,   4]])"
      ]
     },
     "execution_count": 32,
     "metadata": {},
     "output_type": "execute_result"
    }
   ],
   "source": [
    "knn_cf_dt"
   ]
  },
  {
   "cell_type": "code",
   "execution_count": 33,
   "metadata": {},
   "outputs": [
    {
     "name": "stdout",
     "output_type": "stream",
     "text": [
      "True Positives:  4\n",
      "False Positives:  0\n",
      "True Negatives:  150\n",
      "False Negatives:  46\n"
     ]
    }
   ],
   "source": [
    "print(\"True Positives: \", knn_cf_dt[1,1])\n",
    "print(\"False Positives: \", knn_cf_dt[0,1])\n",
    "print(\"True Negatives: \", knn_cf_dt[0,0])\n",
    "print(\"False Negatives: \", knn_cf_dt[1,0])"
   ]
  },
  {
   "cell_type": "code",
   "execution_count": 34,
   "metadata": {},
   "outputs": [
    {
     "data": {
      "text/plain": [
       "<bound method BaseEstimator.get_params of KNeighborsClassifier(algorithm='auto', leaf_size=30, metric='minkowski',\n",
       "                     metric_params=None, n_jobs=None, n_neighbors=5, p=2,\n",
       "                     weights='uniform')>"
      ]
     },
     "execution_count": 34,
     "metadata": {},
     "output_type": "execute_result"
    }
   ],
   "source": [
    "knn.get_params"
   ]
  },
  {
   "cell_type": "code",
   "execution_count": 35,
   "metadata": {},
   "outputs": [
    {
     "data": {
      "text/plain": [
       "array([0.2, 0.4, 0.4, 0. , 0. , 0.4, 0. , 0.2, 0.4, 0. , 0.4, 0.2, 0.2,\n",
       "       0.2, 0. , 0. , 0. , 0.6, 0.4, 0.4, 0.4, 0.2, 0.2, 0. , 0.4, 0. ,\n",
       "       0. , 0. , 0.2, 0. , 0.4, 0.2, 0. , 0. , 0.2, 0.2, 0.2, 0.2, 1. ,\n",
       "       0. , 0. , 0. , 0.4, 0.2, 0. , 0. , 0.6, 0.4, 0. , 0.4, 0.4, 0.2,\n",
       "       1. , 0.2, 0.2, 0. , 0. , 0.6, 0.2, 0. , 0.2, 0.2, 0.8, 0.6, 0. ,\n",
       "       0.4, 0.2, 0.2, 0.2, 0.6, 0.2, 0.4, 0.2, 0.2, 0. , 0. , 0.4, 0.2,\n",
       "       0.2, 0.2, 0. , 0.6, 0.4, 0.4, 0. , 0. , 0.4, 0.2, 0.2, 0.4, 0. ,\n",
       "       0.2, 0.2, 0.4, 0.6, 0. , 0.2, 0. , 0. , 0. , 0.2, 0.2, 0. , 0.2,\n",
       "       0.2, 0.6, 0.2, 0.8, 0.4, 0. , 0.4, 0.4, 0. , 0.4, 0. , 0.8, 0.4,\n",
       "       0.2, 0. , 0. , 0.4, 0. , 0.4, 0. , 0.2, 0.8, 0.4, 0.2, 0.2, 1. ,\n",
       "       0.4, 0.4, 0.2, 0. , 0. , 1. , 0.6, 0.4, 0. , 0.8, 0.4, 0. , 0.2,\n",
       "       0. , 0.6, 0.2, 0.4, 0.8, 0.4, 0.4, 0.2, 0.2, 0. , 0.2, 0. , 0.8,\n",
       "       0. , 0.2, 0.6, 0. , 0. , 0.4, 0. , 0. , 0.2, 0. , 0.4, 0.2, 0.4,\n",
       "       0. , 0. , 0.8, 0.2, 0. , 0.2, 0.4, 0. , 0.2, 0.6, 0.6, 0.2, 0. ,\n",
       "       0. , 0.6, 0.2, 0.2, 0.8, 0. , 0.4, 0.6, 0. , 0. , 0.2, 0.2, 0.4,\n",
       "       0.2, 0.4, 0.6, 0. , 0. ])"
      ]
     },
     "execution_count": 35,
     "metadata": {},
     "output_type": "execute_result"
    }
   ],
   "source": [
    "knn.predict_proba(X_train)[:,1]"
   ]
  },
  {
   "cell_type": "code",
   "execution_count": 36,
   "metadata": {},
   "outputs": [
    {
     "data": {
      "text/html": [
       "<div>\n",
       "<style scoped>\n",
       "    .dataframe tbody tr th:only-of-type {\n",
       "        vertical-align: middle;\n",
       "    }\n",
       "\n",
       "    .dataframe tbody tr th {\n",
       "        vertical-align: top;\n",
       "    }\n",
       "\n",
       "    .dataframe thead th {\n",
       "        text-align: right;\n",
       "    }\n",
       "</style>\n",
       "<table border=\"1\" class=\"dataframe\">\n",
       "  <thead>\n",
       "    <tr style=\"text-align: right;\">\n",
       "      <th></th>\n",
       "      <th>Unique Applicant ID</th>\n",
       "      <th>Age</th>\n",
       "      <th>Years at Employer</th>\n",
       "      <th>Years at Address</th>\n",
       "      <th>Income</th>\n",
       "      <th>Credit Card Debt</th>\n",
       "      <th>Automobile Debt</th>\n",
       "      <th>Outcomes</th>\n",
       "      <th>Eggertopia Scores</th>\n",
       "      <th>Hybrid1</th>\n",
       "      <th>Hybrid2</th>\n",
       "      <th>Hybrid3</th>\n",
       "    </tr>\n",
       "  </thead>\n",
       "  <tbody>\n",
       "    <tr>\n",
       "      <td>0</td>\n",
       "      <td>1</td>\n",
       "      <td>-0.260650</td>\n",
       "      <td>0.114167</td>\n",
       "      <td>-0.778815</td>\n",
       "      <td>-0.221391</td>\n",
       "      <td>-0.011446</td>\n",
       "      <td>0.211894</td>\n",
       "      <td>0</td>\n",
       "      <td>215.227394</td>\n",
       "      <td>-0.232836</td>\n",
       "      <td>0.326061</td>\n",
       "      <td>0.334675</td>\n",
       "    </tr>\n",
       "    <tr>\n",
       "      <td>1</td>\n",
       "      <td>2</td>\n",
       "      <td>-0.010718</td>\n",
       "      <td>0.495792</td>\n",
       "      <td>1.139494</td>\n",
       "      <td>0.361981</td>\n",
       "      <td>-3.184888</td>\n",
       "      <td>-1.506080</td>\n",
       "      <td>1</td>\n",
       "      <td>4387.395317</td>\n",
       "      <td>-2.822907</td>\n",
       "      <td>-1.010287</td>\n",
       "      <td>-0.009406</td>\n",
       "    </tr>\n",
       "    <tr>\n",
       "      <td>2</td>\n",
       "      <td>3</td>\n",
       "      <td>0.369496</td>\n",
       "      <td>0.567691</td>\n",
       "      <td>-1.121509</td>\n",
       "      <td>0.262468</td>\n",
       "      <td>-2.106823</td>\n",
       "      <td>-0.205043</td>\n",
       "      <td>1</td>\n",
       "      <td>3653.976974</td>\n",
       "      <td>-1.844355</td>\n",
       "      <td>0.362648</td>\n",
       "      <td>-0.329464</td>\n",
       "    </tr>\n",
       "    <tr>\n",
       "      <td>3</td>\n",
       "      <td>4</td>\n",
       "      <td>-0.729186</td>\n",
       "      <td>-1.067134</td>\n",
       "      <td>1.708913</td>\n",
       "      <td>-0.595191</td>\n",
       "      <td>0.505837</td>\n",
       "      <td>0.531282</td>\n",
       "      <td>0</td>\n",
       "      <td>3005.809349</td>\n",
       "      <td>-0.089353</td>\n",
       "      <td>-0.535852</td>\n",
       "      <td>-0.426696</td>\n",
       "    </tr>\n",
       "    <tr>\n",
       "      <td>4</td>\n",
       "      <td>5</td>\n",
       "      <td>-0.250083</td>\n",
       "      <td>-0.166253</td>\n",
       "      <td>-0.881336</td>\n",
       "      <td>-0.490361</td>\n",
       "      <td>0.530939</td>\n",
       "      <td>0.800374</td>\n",
       "      <td>0</td>\n",
       "      <td>176.383592</td>\n",
       "      <td>0.040578</td>\n",
       "      <td>0.634121</td>\n",
       "      <td>0.283755</td>\n",
       "    </tr>\n",
       "    <tr>\n",
       "      <td>...</td>\n",
       "      <td>...</td>\n",
       "      <td>...</td>\n",
       "      <td>...</td>\n",
       "      <td>...</td>\n",
       "      <td>...</td>\n",
       "      <td>...</td>\n",
       "      <td>...</td>\n",
       "      <td>...</td>\n",
       "      <td>...</td>\n",
       "      <td>...</td>\n",
       "      <td>...</td>\n",
       "      <td>...</td>\n",
       "    </tr>\n",
       "    <tr>\n",
       "      <td>195</td>\n",
       "      <td>196</td>\n",
       "      <td>0.917975</td>\n",
       "      <td>0.684569</td>\n",
       "      <td>-0.318363</td>\n",
       "      <td>0.213191</td>\n",
       "      <td>-0.504262</td>\n",
       "      <td>-0.671432</td>\n",
       "      <td>0</td>\n",
       "      <td>665.975665</td>\n",
       "      <td>-0.291071</td>\n",
       "      <td>0.013137</td>\n",
       "      <td>-2.883417</td>\n",
       "    </tr>\n",
       "    <tr>\n",
       "      <td>196</td>\n",
       "      <td>197</td>\n",
       "      <td>-1.227163</td>\n",
       "      <td>-0.117292</td>\n",
       "      <td>1.861881</td>\n",
       "      <td>-0.647416</td>\n",
       "      <td>0.570020</td>\n",
       "      <td>0.661930</td>\n",
       "      <td>0</td>\n",
       "      <td>860.723089</td>\n",
       "      <td>-0.077396</td>\n",
       "      <td>0.544638</td>\n",
       "      <td>-0.659099</td>\n",
       "    </tr>\n",
       "    <tr>\n",
       "      <td>197</td>\n",
       "      <td>198</td>\n",
       "      <td>-1.182574</td>\n",
       "      <td>-0.922105</td>\n",
       "      <td>-0.755907</td>\n",
       "      <td>-0.443476</td>\n",
       "      <td>0.451202</td>\n",
       "      <td>0.572421</td>\n",
       "      <td>0</td>\n",
       "      <td>1380.840050</td>\n",
       "      <td>0.007726</td>\n",
       "      <td>-0.349685</td>\n",
       "      <td>1.564444</td>\n",
       "    </tr>\n",
       "    <tr>\n",
       "      <td>198</td>\n",
       "      <td>199</td>\n",
       "      <td>0.523605</td>\n",
       "      <td>1.192563</td>\n",
       "      <td>-0.144719</td>\n",
       "      <td>1.395060</td>\n",
       "      <td>-0.000993</td>\n",
       "      <td>-2.602703</td>\n",
       "      <td>0</td>\n",
       "      <td>457.662212</td>\n",
       "      <td>1.394067</td>\n",
       "      <td>-1.410139</td>\n",
       "      <td>-3.618090</td>\n",
       "    </tr>\n",
       "    <tr>\n",
       "      <td>199</td>\n",
       "      <td>200</td>\n",
       "      <td>1.366064</td>\n",
       "      <td>1.151475</td>\n",
       "      <td>-1.239804</td>\n",
       "      <td>1.561383</td>\n",
       "      <td>0.515690</td>\n",
       "      <td>-0.012279</td>\n",
       "      <td>0</td>\n",
       "      <td>318.892999</td>\n",
       "      <td>2.077074</td>\n",
       "      <td>1.139196</td>\n",
       "      <td>-1.101839</td>\n",
       "    </tr>\n",
       "  </tbody>\n",
       "</table>\n",
       "<p>200 rows × 12 columns</p>\n",
       "</div>"
      ],
      "text/plain": [
       "     Unique Applicant ID        Age   Years at Employer  Years at Address  \\\n",
       "0                       1 -0.260650            0.114167         -0.778815   \n",
       "1                       2 -0.010718            0.495792          1.139494   \n",
       "2                       3  0.369496            0.567691         -1.121509   \n",
       "3                       4 -0.729186           -1.067134          1.708913   \n",
       "4                       5 -0.250083           -0.166253         -0.881336   \n",
       "..                    ...       ...                 ...               ...   \n",
       "195                   196  0.917975            0.684569         -0.318363   \n",
       "196                   197 -1.227163           -0.117292          1.861881   \n",
       "197                   198 -1.182574           -0.922105         -0.755907   \n",
       "198                   199  0.523605            1.192563         -0.144719   \n",
       "199                   200  1.366064            1.151475         -1.239804   \n",
       "\n",
       "       Income  Credit Card Debt   Automobile Debt  Outcomes  \\\n",
       "0   -0.221391          -0.011446         0.211894         0   \n",
       "1    0.361981          -3.184888        -1.506080         1   \n",
       "2    0.262468          -2.106823        -0.205043         1   \n",
       "3   -0.595191           0.505837         0.531282         0   \n",
       "4   -0.490361           0.530939         0.800374         0   \n",
       "..        ...                ...              ...       ...   \n",
       "195  0.213191          -0.504262        -0.671432         0   \n",
       "196 -0.647416           0.570020         0.661930         0   \n",
       "197 -0.443476           0.451202         0.572421         0   \n",
       "198  1.395060          -0.000993        -2.602703         0   \n",
       "199  1.561383           0.515690        -0.012279         0   \n",
       "\n",
       "     Eggertopia Scores    Hybrid1   Hybrid2   Hybrid3  \n",
       "0            215.227394 -0.232836  0.326061  0.334675  \n",
       "1           4387.395317 -2.822907 -1.010287 -0.009406  \n",
       "2           3653.976974 -1.844355  0.362648 -0.329464  \n",
       "3           3005.809349 -0.089353 -0.535852 -0.426696  \n",
       "4            176.383592  0.040578  0.634121  0.283755  \n",
       "..                  ...       ...       ...       ...  \n",
       "195          665.975665 -0.291071  0.013137 -2.883417  \n",
       "196          860.723089 -0.077396  0.544638 -0.659099  \n",
       "197         1380.840050  0.007726 -0.349685  1.564444  \n",
       "198          457.662212  1.394067 -1.410139 -3.618090  \n",
       "199          318.892999  2.077074  1.139196 -1.101839  \n",
       "\n",
       "[200 rows x 12 columns]"
      ]
     },
     "execution_count": 36,
     "metadata": {},
     "output_type": "execute_result"
    }
   ],
   "source": [
    "df1 # interpret #2 data point."
   ]
  },
  {
   "cell_type": "code",
   "execution_count": 37,
   "metadata": {},
   "outputs": [
    {
     "data": {
      "text/html": [
       "<div>\n",
       "<style scoped>\n",
       "    .dataframe tbody tr th:only-of-type {\n",
       "        vertical-align: middle;\n",
       "    }\n",
       "\n",
       "    .dataframe tbody tr th {\n",
       "        vertical-align: top;\n",
       "    }\n",
       "\n",
       "    .dataframe thead th {\n",
       "        text-align: right;\n",
       "    }\n",
       "</style>\n",
       "<table border=\"1\" class=\"dataframe\">\n",
       "  <thead>\n",
       "    <tr style=\"text-align: right;\">\n",
       "      <th></th>\n",
       "      <th>Unique Applicant ID</th>\n",
       "      <th>Age</th>\n",
       "      <th>Years at Employer</th>\n",
       "      <th>Years at Address</th>\n",
       "      <th>Income</th>\n",
       "      <th>Credit Card Debt</th>\n",
       "      <th>Automobile Debt</th>\n",
       "      <th>Outcomes: Default = 1</th>\n",
       "      <th>Eggertopia Scores</th>\n",
       "    </tr>\n",
       "  </thead>\n",
       "  <tbody>\n",
       "    <tr>\n",
       "      <td>0</td>\n",
       "      <td>201</td>\n",
       "      <td>-1.087907</td>\n",
       "      <td>-1.231476</td>\n",
       "      <td>-0.976306</td>\n",
       "      <td>-0.938605</td>\n",
       "      <td>0.216962</td>\n",
       "      <td>0.347977</td>\n",
       "      <td>1</td>\n",
       "      <td>3032.901421</td>\n",
       "    </tr>\n",
       "    <tr>\n",
       "      <td>1</td>\n",
       "      <td>202</td>\n",
       "      <td>-0.861508</td>\n",
       "      <td>-0.638356</td>\n",
       "      <td>-0.765494</td>\n",
       "      <td>-0.221249</td>\n",
       "      <td>-0.953226</td>\n",
       "      <td>0.440784</td>\n",
       "      <td>1</td>\n",
       "      <td>2825.800440</td>\n",
       "    </tr>\n",
       "    <tr>\n",
       "      <td>2</td>\n",
       "      <td>203</td>\n",
       "      <td>0.292076</td>\n",
       "      <td>0.058467</td>\n",
       "      <td>-1.340763</td>\n",
       "      <td>-0.437207</td>\n",
       "      <td>0.018201</td>\n",
       "      <td>0.624745</td>\n",
       "      <td>0</td>\n",
       "      <td>322.315761</td>\n",
       "    </tr>\n",
       "    <tr>\n",
       "      <td>3</td>\n",
       "      <td>204</td>\n",
       "      <td>-0.837194</td>\n",
       "      <td>-0.067750</td>\n",
       "      <td>0.397341</td>\n",
       "      <td>-0.845875</td>\n",
       "      <td>0.697892</td>\n",
       "      <td>0.613221</td>\n",
       "      <td>0</td>\n",
       "      <td>249.832438</td>\n",
       "    </tr>\n",
       "    <tr>\n",
       "      <td>4</td>\n",
       "      <td>205</td>\n",
       "      <td>0.523237</td>\n",
       "      <td>-0.504215</td>\n",
       "      <td>-0.138256</td>\n",
       "      <td>-0.518949</td>\n",
       "      <td>0.522238</td>\n",
       "      <td>0.255239</td>\n",
       "      <td>0</td>\n",
       "      <td>1066.581297</td>\n",
       "    </tr>\n",
       "    <tr>\n",
       "      <td>...</td>\n",
       "      <td>...</td>\n",
       "      <td>...</td>\n",
       "      <td>...</td>\n",
       "      <td>...</td>\n",
       "      <td>...</td>\n",
       "      <td>...</td>\n",
       "      <td>...</td>\n",
       "      <td>...</td>\n",
       "      <td>...</td>\n",
       "    </tr>\n",
       "    <tr>\n",
       "      <td>195</td>\n",
       "      <td>396</td>\n",
       "      <td>1.782889</td>\n",
       "      <td>1.026228</td>\n",
       "      <td>-0.981405</td>\n",
       "      <td>0.649469</td>\n",
       "      <td>-0.031341</td>\n",
       "      <td>-1.007914</td>\n",
       "      <td>0</td>\n",
       "      <td>224.978249</td>\n",
       "    </tr>\n",
       "    <tr>\n",
       "      <td>196</td>\n",
       "      <td>397</td>\n",
       "      <td>-1.347022</td>\n",
       "      <td>-0.853204</td>\n",
       "      <td>-0.208245</td>\n",
       "      <td>-0.798783</td>\n",
       "      <td>0.677807</td>\n",
       "      <td>0.868008</td>\n",
       "      <td>0</td>\n",
       "      <td>1088.642189</td>\n",
       "    </tr>\n",
       "    <tr>\n",
       "      <td>197</td>\n",
       "      <td>398</td>\n",
       "      <td>-0.251758</td>\n",
       "      <td>-0.709232</td>\n",
       "      <td>-0.122664</td>\n",
       "      <td>-0.469844</td>\n",
       "      <td>0.601749</td>\n",
       "      <td>0.318960</td>\n",
       "      <td>0</td>\n",
       "      <td>886.553102</td>\n",
       "    </tr>\n",
       "    <tr>\n",
       "      <td>198</td>\n",
       "      <td>399</td>\n",
       "      <td>1.085565</td>\n",
       "      <td>0.730934</td>\n",
       "      <td>-1.236432</td>\n",
       "      <td>-0.079897</td>\n",
       "      <td>0.648910</td>\n",
       "      <td>0.506898</td>\n",
       "      <td>0</td>\n",
       "      <td>92.170206</td>\n",
       "    </tr>\n",
       "    <tr>\n",
       "      <td>199</td>\n",
       "      <td>400</td>\n",
       "      <td>0.776078</td>\n",
       "      <td>-0.335879</td>\n",
       "      <td>0.979371</td>\n",
       "      <td>0.190564</td>\n",
       "      <td>0.414598</td>\n",
       "      <td>-0.617332</td>\n",
       "      <td>0</td>\n",
       "      <td>70.241997</td>\n",
       "    </tr>\n",
       "  </tbody>\n",
       "</table>\n",
       "<p>200 rows × 9 columns</p>\n",
       "</div>"
      ],
      "text/plain": [
       "     Unique Applicant ID        Age   Years at Employer  Years at Address  \\\n",
       "0                     201 -1.087907           -1.231476         -0.976306   \n",
       "1                     202 -0.861508           -0.638356         -0.765494   \n",
       "2                     203  0.292076            0.058467         -1.340763   \n",
       "3                     204 -0.837194           -0.067750          0.397341   \n",
       "4                     205  0.523237           -0.504215         -0.138256   \n",
       "..                    ...       ...                 ...               ...   \n",
       "195                   396  1.782889            1.026228         -0.981405   \n",
       "196                   397 -1.347022           -0.853204         -0.208245   \n",
       "197                   398 -0.251758           -0.709232         -0.122664   \n",
       "198                   399  1.085565            0.730934         -1.236432   \n",
       "199                   400  0.776078           -0.335879          0.979371   \n",
       "\n",
       "       Income  Credit Card Debt   Automobile Debt  Outcomes: Default = 1  \\\n",
       "0   -0.938605           0.216962         0.347977                      1   \n",
       "1   -0.221249          -0.953226         0.440784                      1   \n",
       "2   -0.437207           0.018201         0.624745                      0   \n",
       "3   -0.845875           0.697892         0.613221                      0   \n",
       "4   -0.518949           0.522238         0.255239                      0   \n",
       "..        ...                ...              ...                    ...   \n",
       "195  0.649469          -0.031341        -1.007914                      0   \n",
       "196 -0.798783           0.677807         0.868008                      0   \n",
       "197 -0.469844           0.601749         0.318960                      0   \n",
       "198 -0.079897           0.648910         0.506898                      0   \n",
       "199  0.190564           0.414598        -0.617332                      0   \n",
       "\n",
       "     Eggertopia Scores   \n",
       "0           3032.901421  \n",
       "1           2825.800440  \n",
       "2            322.315761  \n",
       "3            249.832438  \n",
       "4           1066.581297  \n",
       "..                  ...  \n",
       "195          224.978249  \n",
       "196         1088.642189  \n",
       "197          886.553102  \n",
       "198           92.170206  \n",
       "199           70.241997  \n",
       "\n",
       "[200 rows x 9 columns]"
      ]
     },
     "execution_count": 37,
     "metadata": {},
     "output_type": "execute_result"
    }
   ],
   "source": [
    "df1Test = pd.read_excel('PS5 - Credit Card Risk Data - Nov 2019 .xlsx', 'TestData')\n",
    "df1Test"
   ]
  },
  {
   "cell_type": "code",
   "execution_count": 38,
   "metadata": {},
   "outputs": [
    {
     "data": {
      "text/html": [
       "<div>\n",
       "<style scoped>\n",
       "    .dataframe tbody tr th:only-of-type {\n",
       "        vertical-align: middle;\n",
       "    }\n",
       "\n",
       "    .dataframe tbody tr th {\n",
       "        vertical-align: top;\n",
       "    }\n",
       "\n",
       "    .dataframe thead th {\n",
       "        text-align: right;\n",
       "    }\n",
       "</style>\n",
       "<table border=\"1\" class=\"dataframe\">\n",
       "  <thead>\n",
       "    <tr style=\"text-align: right;\">\n",
       "      <th></th>\n",
       "      <th>ID</th>\n",
       "      <th>AgeT</th>\n",
       "      <th>YearsET</th>\n",
       "      <th>YearsAT</th>\n",
       "      <th>IncomeT</th>\n",
       "      <th>CDebt</th>\n",
       "      <th>ADebt</th>\n",
       "      <th>OutcomesT</th>\n",
       "      <th>Egg</th>\n",
       "    </tr>\n",
       "  </thead>\n",
       "  <tbody>\n",
       "    <tr>\n",
       "      <td>0</td>\n",
       "      <td>201</td>\n",
       "      <td>-1.087907</td>\n",
       "      <td>-1.231476</td>\n",
       "      <td>-0.976306</td>\n",
       "      <td>-0.938605</td>\n",
       "      <td>0.216962</td>\n",
       "      <td>0.347977</td>\n",
       "      <td>1</td>\n",
       "      <td>3032.901421</td>\n",
       "    </tr>\n",
       "    <tr>\n",
       "      <td>1</td>\n",
       "      <td>202</td>\n",
       "      <td>-0.861508</td>\n",
       "      <td>-0.638356</td>\n",
       "      <td>-0.765494</td>\n",
       "      <td>-0.221249</td>\n",
       "      <td>-0.953226</td>\n",
       "      <td>0.440784</td>\n",
       "      <td>1</td>\n",
       "      <td>2825.800440</td>\n",
       "    </tr>\n",
       "    <tr>\n",
       "      <td>2</td>\n",
       "      <td>203</td>\n",
       "      <td>0.292076</td>\n",
       "      <td>0.058467</td>\n",
       "      <td>-1.340763</td>\n",
       "      <td>-0.437207</td>\n",
       "      <td>0.018201</td>\n",
       "      <td>0.624745</td>\n",
       "      <td>0</td>\n",
       "      <td>322.315761</td>\n",
       "    </tr>\n",
       "    <tr>\n",
       "      <td>3</td>\n",
       "      <td>204</td>\n",
       "      <td>-0.837194</td>\n",
       "      <td>-0.067750</td>\n",
       "      <td>0.397341</td>\n",
       "      <td>-0.845875</td>\n",
       "      <td>0.697892</td>\n",
       "      <td>0.613221</td>\n",
       "      <td>0</td>\n",
       "      <td>249.832438</td>\n",
       "    </tr>\n",
       "    <tr>\n",
       "      <td>4</td>\n",
       "      <td>205</td>\n",
       "      <td>0.523237</td>\n",
       "      <td>-0.504215</td>\n",
       "      <td>-0.138256</td>\n",
       "      <td>-0.518949</td>\n",
       "      <td>0.522238</td>\n",
       "      <td>0.255239</td>\n",
       "      <td>0</td>\n",
       "      <td>1066.581297</td>\n",
       "    </tr>\n",
       "    <tr>\n",
       "      <td>...</td>\n",
       "      <td>...</td>\n",
       "      <td>...</td>\n",
       "      <td>...</td>\n",
       "      <td>...</td>\n",
       "      <td>...</td>\n",
       "      <td>...</td>\n",
       "      <td>...</td>\n",
       "      <td>...</td>\n",
       "      <td>...</td>\n",
       "    </tr>\n",
       "    <tr>\n",
       "      <td>195</td>\n",
       "      <td>396</td>\n",
       "      <td>1.782889</td>\n",
       "      <td>1.026228</td>\n",
       "      <td>-0.981405</td>\n",
       "      <td>0.649469</td>\n",
       "      <td>-0.031341</td>\n",
       "      <td>-1.007914</td>\n",
       "      <td>0</td>\n",
       "      <td>224.978249</td>\n",
       "    </tr>\n",
       "    <tr>\n",
       "      <td>196</td>\n",
       "      <td>397</td>\n",
       "      <td>-1.347022</td>\n",
       "      <td>-0.853204</td>\n",
       "      <td>-0.208245</td>\n",
       "      <td>-0.798783</td>\n",
       "      <td>0.677807</td>\n",
       "      <td>0.868008</td>\n",
       "      <td>0</td>\n",
       "      <td>1088.642189</td>\n",
       "    </tr>\n",
       "    <tr>\n",
       "      <td>197</td>\n",
       "      <td>398</td>\n",
       "      <td>-0.251758</td>\n",
       "      <td>-0.709232</td>\n",
       "      <td>-0.122664</td>\n",
       "      <td>-0.469844</td>\n",
       "      <td>0.601749</td>\n",
       "      <td>0.318960</td>\n",
       "      <td>0</td>\n",
       "      <td>886.553102</td>\n",
       "    </tr>\n",
       "    <tr>\n",
       "      <td>198</td>\n",
       "      <td>399</td>\n",
       "      <td>1.085565</td>\n",
       "      <td>0.730934</td>\n",
       "      <td>-1.236432</td>\n",
       "      <td>-0.079897</td>\n",
       "      <td>0.648910</td>\n",
       "      <td>0.506898</td>\n",
       "      <td>0</td>\n",
       "      <td>92.170206</td>\n",
       "    </tr>\n",
       "    <tr>\n",
       "      <td>199</td>\n",
       "      <td>400</td>\n",
       "      <td>0.776078</td>\n",
       "      <td>-0.335879</td>\n",
       "      <td>0.979371</td>\n",
       "      <td>0.190564</td>\n",
       "      <td>0.414598</td>\n",
       "      <td>-0.617332</td>\n",
       "      <td>0</td>\n",
       "      <td>70.241997</td>\n",
       "    </tr>\n",
       "  </tbody>\n",
       "</table>\n",
       "<p>200 rows × 9 columns</p>\n",
       "</div>"
      ],
      "text/plain": [
       "      ID      AgeT   YearsET   YearsAT   IncomeT     CDebt     ADebt  \\\n",
       "0    201 -1.087907 -1.231476 -0.976306 -0.938605  0.216962  0.347977   \n",
       "1    202 -0.861508 -0.638356 -0.765494 -0.221249 -0.953226  0.440784   \n",
       "2    203  0.292076  0.058467 -1.340763 -0.437207  0.018201  0.624745   \n",
       "3    204 -0.837194 -0.067750  0.397341 -0.845875  0.697892  0.613221   \n",
       "4    205  0.523237 -0.504215 -0.138256 -0.518949  0.522238  0.255239   \n",
       "..   ...       ...       ...       ...       ...       ...       ...   \n",
       "195  396  1.782889  1.026228 -0.981405  0.649469 -0.031341 -1.007914   \n",
       "196  397 -1.347022 -0.853204 -0.208245 -0.798783  0.677807  0.868008   \n",
       "197  398 -0.251758 -0.709232 -0.122664 -0.469844  0.601749  0.318960   \n",
       "198  399  1.085565  0.730934 -1.236432 -0.079897  0.648910  0.506898   \n",
       "199  400  0.776078 -0.335879  0.979371  0.190564  0.414598 -0.617332   \n",
       "\n",
       "     OutcomesT          Egg  \n",
       "0            1  3032.901421  \n",
       "1            1  2825.800440  \n",
       "2            0   322.315761  \n",
       "3            0   249.832438  \n",
       "4            0  1066.581297  \n",
       "..         ...          ...  \n",
       "195          0   224.978249  \n",
       "196          0  1088.642189  \n",
       "197          0   886.553102  \n",
       "198          0    92.170206  \n",
       "199          0    70.241997  \n",
       "\n",
       "[200 rows x 9 columns]"
      ]
     },
     "execution_count": 38,
     "metadata": {},
     "output_type": "execute_result"
    }
   ],
   "source": [
    "df1Test.columns = ['ID', 'AgeT', 'YearsET', 'YearsAT', 'IncomeT', 'CDebt', 'ADebt', 'OutcomesT','Egg']\n",
    "df1Test"
   ]
  },
  {
   "cell_type": "code",
   "execution_count": 39,
   "metadata": {},
   "outputs": [
    {
     "data": {
      "text/plain": [
       "Index(['ID', 'AgeT', 'YearsET', 'YearsAT', 'IncomeT', 'CDebt', 'ADebt',\n",
       "       'OutcomesT', 'Egg'],\n",
       "      dtype='object')"
      ]
     },
     "execution_count": 39,
     "metadata": {},
     "output_type": "execute_result"
    }
   ],
   "source": [
    "df1Test.columns"
   ]
  },
  {
   "cell_type": "code",
   "execution_count": 40,
   "metadata": {},
   "outputs": [],
   "source": [
    "df1Test['Hybrid1'] = df1Test['IncomeT']+df1Test['CDebt']\n",
    "df1Test['Hybrid2'] = df1Test['ADebt']+df1Test['YearsET']\n",
    "df1Test['Hybrid3'] = df1Test['AgeT']/df1Test['YearsAT']"
   ]
  },
  {
   "cell_type": "code",
   "execution_count": 41,
   "metadata": {},
   "outputs": [],
   "source": [
    "#numpy arrays on test data\n",
    "X_testS = np.array(df1Test[['AgeT', 'YearsET', 'YearsAT', 'IncomeT', 'CDebt', 'ADebt']])\n",
    "Y_testS = np.array(df1Test['OutcomesT'])"
   ]
  },
  {
   "cell_type": "code",
   "execution_count": 42,
   "metadata": {},
   "outputs": [],
   "source": [
    "#predict class on test data\n",
    "knn_prob_test = knn.predict_proba(X_testS)[:,1]"
   ]
  },
  {
   "cell_type": "code",
   "execution_count": 43,
   "metadata": {},
   "outputs": [
    {
     "data": {
      "text/plain": [
       "0.7543333333333333"
      ]
     },
     "execution_count": 43,
     "metadata": {},
     "output_type": "execute_result"
    }
   ],
   "source": [
    "#auc score on training data for knn classifier with k=5\n",
    "metrics.roc_auc_score(Y_testS, knn_prob_test)"
   ]
  },
  {
   "cell_type": "code",
   "execution_count": 44,
   "metadata": {},
   "outputs": [],
   "source": [
    "#get training predictions with different threshold\n",
    "knn_test_pred = (knn.predict_proba(X_testS)[:,1] >= 0.4).astype(bool)\n",
    "#make confusion matrix on training data\n",
    "knn_cf_test = metrics.confusion_matrix(Y_testS, knn_test_pred)"
   ]
  },
  {
   "cell_type": "code",
   "execution_count": 45,
   "metadata": {},
   "outputs": [
    {
     "data": {
      "text/plain": [
       "array([[114,  36],\n",
       "       [ 18,  32]])"
      ]
     },
     "execution_count": 45,
     "metadata": {},
     "output_type": "execute_result"
    }
   ],
   "source": [
    "knn_cf_test"
   ]
  },
  {
   "cell_type": "code",
   "execution_count": 46,
   "metadata": {},
   "outputs": [
    {
     "name": "stdout",
     "output_type": "stream",
     "text": [
      "198000\n",
      "990.0\n"
     ]
    }
   ],
   "source": [
    "cost_test = 3500*knn_cf_test[0,1] + 4000*knn_cf_test[1,0]\n",
    "print(cost_test)\n",
    "print(cost_test/Y_testS.shape[0])"
   ]
  },
  {
   "cell_type": "code",
   "execution_count": 47,
   "metadata": {},
   "outputs": [
    {
     "data": {
      "text/html": [
       "<div>\n",
       "<style scoped>\n",
       "    .dataframe tbody tr th:only-of-type {\n",
       "        vertical-align: middle;\n",
       "    }\n",
       "\n",
       "    .dataframe tbody tr th {\n",
       "        vertical-align: top;\n",
       "    }\n",
       "\n",
       "    .dataframe thead th {\n",
       "        text-align: right;\n",
       "    }\n",
       "</style>\n",
       "<table border=\"1\" class=\"dataframe\">\n",
       "  <thead>\n",
       "    <tr style=\"text-align: right;\">\n",
       "      <th></th>\n",
       "      <th>Unique Applicant ID</th>\n",
       "      <th>Age</th>\n",
       "      <th>Years at Employer</th>\n",
       "      <th>Years at Address</th>\n",
       "      <th>Income</th>\n",
       "      <th>Credit Card Debt</th>\n",
       "      <th>Automobile Debt</th>\n",
       "      <th>Outcomes</th>\n",
       "      <th>Eggertopia Scores</th>\n",
       "      <th>Hybrid1</th>\n",
       "      <th>Hybrid2</th>\n",
       "      <th>Hybrid3</th>\n",
       "    </tr>\n",
       "  </thead>\n",
       "  <tbody>\n",
       "    <tr>\n",
       "      <td>0</td>\n",
       "      <td>1</td>\n",
       "      <td>-0.260650</td>\n",
       "      <td>0.114167</td>\n",
       "      <td>-0.778815</td>\n",
       "      <td>-0.221391</td>\n",
       "      <td>-0.011446</td>\n",
       "      <td>0.211894</td>\n",
       "      <td>0</td>\n",
       "      <td>215.227394</td>\n",
       "      <td>-0.232836</td>\n",
       "      <td>0.326061</td>\n",
       "      <td>0.334675</td>\n",
       "    </tr>\n",
       "    <tr>\n",
       "      <td>1</td>\n",
       "      <td>2</td>\n",
       "      <td>-0.010718</td>\n",
       "      <td>0.495792</td>\n",
       "      <td>1.139494</td>\n",
       "      <td>0.361981</td>\n",
       "      <td>-3.184888</td>\n",
       "      <td>-1.506080</td>\n",
       "      <td>1</td>\n",
       "      <td>4387.395317</td>\n",
       "      <td>-2.822907</td>\n",
       "      <td>-1.010287</td>\n",
       "      <td>-0.009406</td>\n",
       "    </tr>\n",
       "    <tr>\n",
       "      <td>2</td>\n",
       "      <td>3</td>\n",
       "      <td>0.369496</td>\n",
       "      <td>0.567691</td>\n",
       "      <td>-1.121509</td>\n",
       "      <td>0.262468</td>\n",
       "      <td>-2.106823</td>\n",
       "      <td>-0.205043</td>\n",
       "      <td>1</td>\n",
       "      <td>3653.976974</td>\n",
       "      <td>-1.844355</td>\n",
       "      <td>0.362648</td>\n",
       "      <td>-0.329464</td>\n",
       "    </tr>\n",
       "    <tr>\n",
       "      <td>3</td>\n",
       "      <td>4</td>\n",
       "      <td>-0.729186</td>\n",
       "      <td>-1.067134</td>\n",
       "      <td>1.708913</td>\n",
       "      <td>-0.595191</td>\n",
       "      <td>0.505837</td>\n",
       "      <td>0.531282</td>\n",
       "      <td>0</td>\n",
       "      <td>3005.809349</td>\n",
       "      <td>-0.089353</td>\n",
       "      <td>-0.535852</td>\n",
       "      <td>-0.426696</td>\n",
       "    </tr>\n",
       "    <tr>\n",
       "      <td>4</td>\n",
       "      <td>5</td>\n",
       "      <td>-0.250083</td>\n",
       "      <td>-0.166253</td>\n",
       "      <td>-0.881336</td>\n",
       "      <td>-0.490361</td>\n",
       "      <td>0.530939</td>\n",
       "      <td>0.800374</td>\n",
       "      <td>0</td>\n",
       "      <td>176.383592</td>\n",
       "      <td>0.040578</td>\n",
       "      <td>0.634121</td>\n",
       "      <td>0.283755</td>\n",
       "    </tr>\n",
       "    <tr>\n",
       "      <td>...</td>\n",
       "      <td>...</td>\n",
       "      <td>...</td>\n",
       "      <td>...</td>\n",
       "      <td>...</td>\n",
       "      <td>...</td>\n",
       "      <td>...</td>\n",
       "      <td>...</td>\n",
       "      <td>...</td>\n",
       "      <td>...</td>\n",
       "      <td>...</td>\n",
       "      <td>...</td>\n",
       "      <td>...</td>\n",
       "    </tr>\n",
       "    <tr>\n",
       "      <td>195</td>\n",
       "      <td>196</td>\n",
       "      <td>0.917975</td>\n",
       "      <td>0.684569</td>\n",
       "      <td>-0.318363</td>\n",
       "      <td>0.213191</td>\n",
       "      <td>-0.504262</td>\n",
       "      <td>-0.671432</td>\n",
       "      <td>0</td>\n",
       "      <td>665.975665</td>\n",
       "      <td>-0.291071</td>\n",
       "      <td>0.013137</td>\n",
       "      <td>-2.883417</td>\n",
       "    </tr>\n",
       "    <tr>\n",
       "      <td>196</td>\n",
       "      <td>197</td>\n",
       "      <td>-1.227163</td>\n",
       "      <td>-0.117292</td>\n",
       "      <td>1.861881</td>\n",
       "      <td>-0.647416</td>\n",
       "      <td>0.570020</td>\n",
       "      <td>0.661930</td>\n",
       "      <td>0</td>\n",
       "      <td>860.723089</td>\n",
       "      <td>-0.077396</td>\n",
       "      <td>0.544638</td>\n",
       "      <td>-0.659099</td>\n",
       "    </tr>\n",
       "    <tr>\n",
       "      <td>197</td>\n",
       "      <td>198</td>\n",
       "      <td>-1.182574</td>\n",
       "      <td>-0.922105</td>\n",
       "      <td>-0.755907</td>\n",
       "      <td>-0.443476</td>\n",
       "      <td>0.451202</td>\n",
       "      <td>0.572421</td>\n",
       "      <td>0</td>\n",
       "      <td>1380.840050</td>\n",
       "      <td>0.007726</td>\n",
       "      <td>-0.349685</td>\n",
       "      <td>1.564444</td>\n",
       "    </tr>\n",
       "    <tr>\n",
       "      <td>198</td>\n",
       "      <td>199</td>\n",
       "      <td>0.523605</td>\n",
       "      <td>1.192563</td>\n",
       "      <td>-0.144719</td>\n",
       "      <td>1.395060</td>\n",
       "      <td>-0.000993</td>\n",
       "      <td>-2.602703</td>\n",
       "      <td>0</td>\n",
       "      <td>457.662212</td>\n",
       "      <td>1.394067</td>\n",
       "      <td>-1.410139</td>\n",
       "      <td>-3.618090</td>\n",
       "    </tr>\n",
       "    <tr>\n",
       "      <td>199</td>\n",
       "      <td>200</td>\n",
       "      <td>1.366064</td>\n",
       "      <td>1.151475</td>\n",
       "      <td>-1.239804</td>\n",
       "      <td>1.561383</td>\n",
       "      <td>0.515690</td>\n",
       "      <td>-0.012279</td>\n",
       "      <td>0</td>\n",
       "      <td>318.892999</td>\n",
       "      <td>2.077074</td>\n",
       "      <td>1.139196</td>\n",
       "      <td>-1.101839</td>\n",
       "    </tr>\n",
       "  </tbody>\n",
       "</table>\n",
       "<p>200 rows × 12 columns</p>\n",
       "</div>"
      ],
      "text/plain": [
       "     Unique Applicant ID        Age   Years at Employer  Years at Address  \\\n",
       "0                       1 -0.260650            0.114167         -0.778815   \n",
       "1                       2 -0.010718            0.495792          1.139494   \n",
       "2                       3  0.369496            0.567691         -1.121509   \n",
       "3                       4 -0.729186           -1.067134          1.708913   \n",
       "4                       5 -0.250083           -0.166253         -0.881336   \n",
       "..                    ...       ...                 ...               ...   \n",
       "195                   196  0.917975            0.684569         -0.318363   \n",
       "196                   197 -1.227163           -0.117292          1.861881   \n",
       "197                   198 -1.182574           -0.922105         -0.755907   \n",
       "198                   199  0.523605            1.192563         -0.144719   \n",
       "199                   200  1.366064            1.151475         -1.239804   \n",
       "\n",
       "       Income  Credit Card Debt   Automobile Debt  Outcomes  \\\n",
       "0   -0.221391          -0.011446         0.211894         0   \n",
       "1    0.361981          -3.184888        -1.506080         1   \n",
       "2    0.262468          -2.106823        -0.205043         1   \n",
       "3   -0.595191           0.505837         0.531282         0   \n",
       "4   -0.490361           0.530939         0.800374         0   \n",
       "..        ...                ...              ...       ...   \n",
       "195  0.213191          -0.504262        -0.671432         0   \n",
       "196 -0.647416           0.570020         0.661930         0   \n",
       "197 -0.443476           0.451202         0.572421         0   \n",
       "198  1.395060          -0.000993        -2.602703         0   \n",
       "199  1.561383           0.515690        -0.012279         0   \n",
       "\n",
       "     Eggertopia Scores    Hybrid1   Hybrid2   Hybrid3  \n",
       "0            215.227394 -0.232836  0.326061  0.334675  \n",
       "1           4387.395317 -2.822907 -1.010287 -0.009406  \n",
       "2           3653.976974 -1.844355  0.362648 -0.329464  \n",
       "3           3005.809349 -0.089353 -0.535852 -0.426696  \n",
       "4            176.383592  0.040578  0.634121  0.283755  \n",
       "..                  ...       ...       ...       ...  \n",
       "195          665.975665 -0.291071  0.013137 -2.883417  \n",
       "196          860.723089 -0.077396  0.544638 -0.659099  \n",
       "197         1380.840050  0.007726 -0.349685  1.564444  \n",
       "198          457.662212  1.394067 -1.410139 -3.618090  \n",
       "199          318.892999  2.077074  1.139196 -1.101839  \n",
       "\n",
       "[200 rows x 12 columns]"
      ]
     },
     "execution_count": 47,
     "metadata": {},
     "output_type": "execute_result"
    }
   ],
   "source": [
    "df1"
   ]
  },
  {
   "cell_type": "code",
   "execution_count": 48,
   "metadata": {},
   "outputs": [
    {
     "data": {
      "text/plain": [
       "Index(['Unique Applicant ID ', ' Age', ' Years at Employer',\n",
       "       'Years at Address', 'Income', 'Credit Card Debt ', 'Automobile Debt',\n",
       "       'Outcomes', 'Eggertopia Scores ', 'Hybrid1', 'Hybrid2', 'Hybrid3'],\n",
       "      dtype='object')"
      ]
     },
     "execution_count": 48,
     "metadata": {},
     "output_type": "execute_result"
    }
   ],
   "source": [
    "df1.columns"
   ]
  },
  {
   "cell_type": "code",
   "execution_count": 49,
   "metadata": {},
   "outputs": [],
   "source": [
    "XE_train = df1.drop(['Outcomes','Unique Applicant ID '], axis=1).values\n",
    "yE_train = df1['Outcomes'].values"
   ]
  },
  {
   "cell_type": "code",
   "execution_count": 50,
   "metadata": {},
   "outputs": [],
   "source": [
    "knn = neighbors.KNeighborsClassifier(n_neighbors=5).fit(XE_train, yE_train)"
   ]
  },
  {
   "cell_type": "code",
   "execution_count": 51,
   "metadata": {},
   "outputs": [],
   "source": [
    "#get training predictions with different threshold\n",
    "knn_train_pred_dt = [1 if pred >= 0.4 else 0 for pred in knn.predict_proba(XE_train)[:,1]]\n",
    "#make confusion matrix on training data\n",
    "knn_cf_dt = metrics.confusion_matrix(yE_train, knn_train_pred_dt)"
   ]
  },
  {
   "cell_type": "code",
   "execution_count": 52,
   "metadata": {},
   "outputs": [
    {
     "data": {
      "text/plain": [
       "array([[121,  29],\n",
       "       [  7,  43]])"
      ]
     },
     "execution_count": 52,
     "metadata": {},
     "output_type": "execute_result"
    }
   ],
   "source": [
    "knn_cf_dt"
   ]
  },
  {
   "cell_type": "code",
   "execution_count": 53,
   "metadata": {},
   "outputs": [
    {
     "name": "stdout",
     "output_type": "stream",
     "text": [
      "True Positives:  43\n",
      "False Positives:  29\n",
      "True Negatives:  121\n",
      "False Negatives:  7\n"
     ]
    }
   ],
   "source": [
    "print(\"True Positives: \", knn_cf_dt[1,1])\n",
    "print(\"False Positives: \", knn_cf_dt[0,1])\n",
    "print(\"True Negatives: \", knn_cf_dt[0,0])\n",
    "print(\"False Negatives: \", knn_cf_dt[1,0])"
   ]
  },
  {
   "cell_type": "code",
   "execution_count": 54,
   "metadata": {},
   "outputs": [
    {
     "name": "stdout",
     "output_type": "stream",
     "text": [
      "647.5\n"
     ]
    }
   ],
   "source": [
    "cost = 3500*knn_cf_dt[0,1] + 4000*knn_cf_dt[1,0]\n",
    "cost\n",
    "print(cost/XE_train.shape[0])"
   ]
  },
  {
   "cell_type": "code",
   "execution_count": 55,
   "metadata": {},
   "outputs": [
    {
     "data": {
      "text/html": [
       "<div>\n",
       "<style scoped>\n",
       "    .dataframe tbody tr th:only-of-type {\n",
       "        vertical-align: middle;\n",
       "    }\n",
       "\n",
       "    .dataframe tbody tr th {\n",
       "        vertical-align: top;\n",
       "    }\n",
       "\n",
       "    .dataframe thead th {\n",
       "        text-align: right;\n",
       "    }\n",
       "</style>\n",
       "<table border=\"1\" class=\"dataframe\">\n",
       "  <thead>\n",
       "    <tr style=\"text-align: right;\">\n",
       "      <th></th>\n",
       "      <th>ID</th>\n",
       "      <th>AgeT</th>\n",
       "      <th>YearsET</th>\n",
       "      <th>YearsAT</th>\n",
       "      <th>IncomeT</th>\n",
       "      <th>CDebt</th>\n",
       "      <th>ADebt</th>\n",
       "      <th>OutcomesT</th>\n",
       "      <th>Egg</th>\n",
       "      <th>Hybrid1</th>\n",
       "      <th>Hybrid2</th>\n",
       "      <th>Hybrid3</th>\n",
       "    </tr>\n",
       "  </thead>\n",
       "  <tbody>\n",
       "    <tr>\n",
       "      <td>0</td>\n",
       "      <td>201</td>\n",
       "      <td>-1.087907</td>\n",
       "      <td>-1.231476</td>\n",
       "      <td>-0.976306</td>\n",
       "      <td>-0.938605</td>\n",
       "      <td>0.216962</td>\n",
       "      <td>0.347977</td>\n",
       "      <td>1</td>\n",
       "      <td>3032.901421</td>\n",
       "      <td>-0.721644</td>\n",
       "      <td>-0.883500</td>\n",
       "      <td>1.114309</td>\n",
       "    </tr>\n",
       "    <tr>\n",
       "      <td>1</td>\n",
       "      <td>202</td>\n",
       "      <td>-0.861508</td>\n",
       "      <td>-0.638356</td>\n",
       "      <td>-0.765494</td>\n",
       "      <td>-0.221249</td>\n",
       "      <td>-0.953226</td>\n",
       "      <td>0.440784</td>\n",
       "      <td>1</td>\n",
       "      <td>2825.800440</td>\n",
       "      <td>-1.174475</td>\n",
       "      <td>-0.197572</td>\n",
       "      <td>1.125427</td>\n",
       "    </tr>\n",
       "    <tr>\n",
       "      <td>2</td>\n",
       "      <td>203</td>\n",
       "      <td>0.292076</td>\n",
       "      <td>0.058467</td>\n",
       "      <td>-1.340763</td>\n",
       "      <td>-0.437207</td>\n",
       "      <td>0.018201</td>\n",
       "      <td>0.624745</td>\n",
       "      <td>0</td>\n",
       "      <td>322.315761</td>\n",
       "      <td>-0.419007</td>\n",
       "      <td>0.683212</td>\n",
       "      <td>-0.217843</td>\n",
       "    </tr>\n",
       "    <tr>\n",
       "      <td>3</td>\n",
       "      <td>204</td>\n",
       "      <td>-0.837194</td>\n",
       "      <td>-0.067750</td>\n",
       "      <td>0.397341</td>\n",
       "      <td>-0.845875</td>\n",
       "      <td>0.697892</td>\n",
       "      <td>0.613221</td>\n",
       "      <td>0</td>\n",
       "      <td>249.832438</td>\n",
       "      <td>-0.147983</td>\n",
       "      <td>0.545471</td>\n",
       "      <td>-2.106991</td>\n",
       "    </tr>\n",
       "    <tr>\n",
       "      <td>4</td>\n",
       "      <td>205</td>\n",
       "      <td>0.523237</td>\n",
       "      <td>-0.504215</td>\n",
       "      <td>-0.138256</td>\n",
       "      <td>-0.518949</td>\n",
       "      <td>0.522238</td>\n",
       "      <td>0.255239</td>\n",
       "      <td>0</td>\n",
       "      <td>1066.581297</td>\n",
       "      <td>0.003289</td>\n",
       "      <td>-0.248976</td>\n",
       "      <td>-3.784548</td>\n",
       "    </tr>\n",
       "    <tr>\n",
       "      <td>...</td>\n",
       "      <td>...</td>\n",
       "      <td>...</td>\n",
       "      <td>...</td>\n",
       "      <td>...</td>\n",
       "      <td>...</td>\n",
       "      <td>...</td>\n",
       "      <td>...</td>\n",
       "      <td>...</td>\n",
       "      <td>...</td>\n",
       "      <td>...</td>\n",
       "      <td>...</td>\n",
       "      <td>...</td>\n",
       "    </tr>\n",
       "    <tr>\n",
       "      <td>195</td>\n",
       "      <td>396</td>\n",
       "      <td>1.782889</td>\n",
       "      <td>1.026228</td>\n",
       "      <td>-0.981405</td>\n",
       "      <td>0.649469</td>\n",
       "      <td>-0.031341</td>\n",
       "      <td>-1.007914</td>\n",
       "      <td>0</td>\n",
       "      <td>224.978249</td>\n",
       "      <td>0.618128</td>\n",
       "      <td>0.018313</td>\n",
       "      <td>-1.816670</td>\n",
       "    </tr>\n",
       "    <tr>\n",
       "      <td>196</td>\n",
       "      <td>397</td>\n",
       "      <td>-1.347022</td>\n",
       "      <td>-0.853204</td>\n",
       "      <td>-0.208245</td>\n",
       "      <td>-0.798783</td>\n",
       "      <td>0.677807</td>\n",
       "      <td>0.868008</td>\n",
       "      <td>0</td>\n",
       "      <td>1088.642189</td>\n",
       "      <td>-0.120976</td>\n",
       "      <td>0.014805</td>\n",
       "      <td>6.468437</td>\n",
       "    </tr>\n",
       "    <tr>\n",
       "      <td>197</td>\n",
       "      <td>398</td>\n",
       "      <td>-0.251758</td>\n",
       "      <td>-0.709232</td>\n",
       "      <td>-0.122664</td>\n",
       "      <td>-0.469844</td>\n",
       "      <td>0.601749</td>\n",
       "      <td>0.318960</td>\n",
       "      <td>0</td>\n",
       "      <td>886.553102</td>\n",
       "      <td>0.131906</td>\n",
       "      <td>-0.390271</td>\n",
       "      <td>2.052417</td>\n",
       "    </tr>\n",
       "    <tr>\n",
       "      <td>198</td>\n",
       "      <td>399</td>\n",
       "      <td>1.085565</td>\n",
       "      <td>0.730934</td>\n",
       "      <td>-1.236432</td>\n",
       "      <td>-0.079897</td>\n",
       "      <td>0.648910</td>\n",
       "      <td>0.506898</td>\n",
       "      <td>0</td>\n",
       "      <td>92.170206</td>\n",
       "      <td>0.569013</td>\n",
       "      <td>1.237832</td>\n",
       "      <td>-0.877981</td>\n",
       "    </tr>\n",
       "    <tr>\n",
       "      <td>199</td>\n",
       "      <td>400</td>\n",
       "      <td>0.776078</td>\n",
       "      <td>-0.335879</td>\n",
       "      <td>0.979371</td>\n",
       "      <td>0.190564</td>\n",
       "      <td>0.414598</td>\n",
       "      <td>-0.617332</td>\n",
       "      <td>0</td>\n",
       "      <td>70.241997</td>\n",
       "      <td>0.605162</td>\n",
       "      <td>-0.953211</td>\n",
       "      <td>0.792425</td>\n",
       "    </tr>\n",
       "  </tbody>\n",
       "</table>\n",
       "<p>200 rows × 12 columns</p>\n",
       "</div>"
      ],
      "text/plain": [
       "      ID      AgeT   YearsET   YearsAT   IncomeT     CDebt     ADebt  \\\n",
       "0    201 -1.087907 -1.231476 -0.976306 -0.938605  0.216962  0.347977   \n",
       "1    202 -0.861508 -0.638356 -0.765494 -0.221249 -0.953226  0.440784   \n",
       "2    203  0.292076  0.058467 -1.340763 -0.437207  0.018201  0.624745   \n",
       "3    204 -0.837194 -0.067750  0.397341 -0.845875  0.697892  0.613221   \n",
       "4    205  0.523237 -0.504215 -0.138256 -0.518949  0.522238  0.255239   \n",
       "..   ...       ...       ...       ...       ...       ...       ...   \n",
       "195  396  1.782889  1.026228 -0.981405  0.649469 -0.031341 -1.007914   \n",
       "196  397 -1.347022 -0.853204 -0.208245 -0.798783  0.677807  0.868008   \n",
       "197  398 -0.251758 -0.709232 -0.122664 -0.469844  0.601749  0.318960   \n",
       "198  399  1.085565  0.730934 -1.236432 -0.079897  0.648910  0.506898   \n",
       "199  400  0.776078 -0.335879  0.979371  0.190564  0.414598 -0.617332   \n",
       "\n",
       "     OutcomesT          Egg   Hybrid1   Hybrid2   Hybrid3  \n",
       "0            1  3032.901421 -0.721644 -0.883500  1.114309  \n",
       "1            1  2825.800440 -1.174475 -0.197572  1.125427  \n",
       "2            0   322.315761 -0.419007  0.683212 -0.217843  \n",
       "3            0   249.832438 -0.147983  0.545471 -2.106991  \n",
       "4            0  1066.581297  0.003289 -0.248976 -3.784548  \n",
       "..         ...          ...       ...       ...       ...  \n",
       "195          0   224.978249  0.618128  0.018313 -1.816670  \n",
       "196          0  1088.642189 -0.120976  0.014805  6.468437  \n",
       "197          0   886.553102  0.131906 -0.390271  2.052417  \n",
       "198          0    92.170206  0.569013  1.237832 -0.877981  \n",
       "199          0    70.241997  0.605162 -0.953211  0.792425  \n",
       "\n",
       "[200 rows x 12 columns]"
      ]
     },
     "execution_count": 55,
     "metadata": {},
     "output_type": "execute_result"
    }
   ],
   "source": [
    "df1Test"
   ]
  },
  {
   "cell_type": "code",
   "execution_count": 56,
   "metadata": {},
   "outputs": [],
   "source": [
    "XE_test = df1Test.drop(['OutcomesT','ID'], axis=1).values\n",
    "yE_test = df1Test['OutcomesT'].values"
   ]
  },
  {
   "cell_type": "code",
   "execution_count": 57,
   "metadata": {},
   "outputs": [
    {
     "data": {
      "text/plain": [
       "(200, 10)"
      ]
     },
     "execution_count": 57,
     "metadata": {},
     "output_type": "execute_result"
    }
   ],
   "source": [
    "XE_test.shape"
   ]
  },
  {
   "cell_type": "code",
   "execution_count": 58,
   "metadata": {},
   "outputs": [
    {
     "data": {
      "text/plain": [
       "array([0.6, 0.8, 0. , 0. , 0.2, 0. , 0. , 0.2, 0.2, 0. , 0. , 0.4, 0. ,\n",
       "       0.4, 0.4, 0.2, 0. , 0.2, 0.4, 0.8, 0. , 0.4, 0.2, 0. , 0.8, 0. ,\n",
       "       0. , 0. , 1. , 0.4, 0. , 0.4, 0.2, 0.2, 0. , 0.4, 1. , 0.4, 0.4,\n",
       "       0. , 0. , 0. , 0. , 1. , 0. , 1. , 0. , 0. , 0.6, 0.4, 0.4, 0.8,\n",
       "       0.4, 0. , 0.6, 0. , 0. , 0.2, 0.2, 0. , 0.4, 0.6, 0.8, 0. , 0.8,\n",
       "       0. , 0.4, 0. , 0. , 0.2, 0.6, 0. , 0.6, 0. , 0.4, 0.2, 0. , 0.4,\n",
       "       0.6, 0.4, 0. , 0. , 0. , 0. , 0.2, 0. , 0.4, 0.2, 0.4, 0.4, 0.8,\n",
       "       0.4, 0. , 0.8, 0. , 0.4, 0. , 0. , 0.2, 0.4, 0.4, 0. , 0.4, 0.4,\n",
       "       0. , 0.2, 0. , 0.2, 0. , 0. , 0.8, 0. , 0.6, 0. , 0.4, 0. , 0.4,\n",
       "       0. , 0. , 0.4, 0. , 0.6, 0. , 0. , 0. , 0. , 0.4, 0. , 0. , 0. ,\n",
       "       0. , 0. , 0.4, 0.8, 0. , 0.8, 0.4, 0. , 0.6, 0. , 0.6, 0.6, 0.2,\n",
       "       0. , 1. , 0.6, 0.2, 0.2, 0.6, 0.6, 0. , 0. , 0.4, 0. , 0.2, 0. ,\n",
       "       0. , 1. , 1. , 0. , 0. , 0.4, 0.4, 0. , 0. , 0.4, 0. , 0. , 0.4,\n",
       "       0.8, 0. , 0.2, 0.8, 0. , 0.2, 0.2, 0. , 0.6, 0. , 1. , 0.8, 0. ,\n",
       "       0. , 0. , 0.2, 0.4, 0.6, 0. , 0.4, 0.2, 0. , 0.4, 0.4, 0. , 0. ,\n",
       "       0. , 0.2, 0. , 0. , 0. ])"
      ]
     },
     "execution_count": 58,
     "metadata": {},
     "output_type": "execute_result"
    }
   ],
   "source": [
    "knn.predict_proba(XE_test)[:,1]"
   ]
  },
  {
   "cell_type": "code",
   "execution_count": 59,
   "metadata": {},
   "outputs": [],
   "source": [
    "#get test predictions with different threshold\n",
    "knn_test_pred_dt = [1 if pred >= 0.4 else 0 for pred in knn.predict_proba(XE_test)[:,1]]\n",
    "#make confusion matrix on training data\n",
    "knn_cf_dt = metrics.confusion_matrix(yE_test, knn_test_pred_dt)"
   ]
  },
  {
   "cell_type": "code",
   "execution_count": 60,
   "metadata": {},
   "outputs": [
    {
     "data": {
      "text/plain": [
       "array([[105,  45],\n",
       "       [ 14,  36]])"
      ]
     },
     "execution_count": 60,
     "metadata": {},
     "output_type": "execute_result"
    }
   ],
   "source": [
    "knn_cf_dt"
   ]
  },
  {
   "cell_type": "code",
   "execution_count": 61,
   "metadata": {},
   "outputs": [
    {
     "name": "stdout",
     "output_type": "stream",
     "text": [
      "True Positives:  36\n",
      "False Positives:  45\n",
      "True Negatives:  105\n",
      "False Negatives:  14\n"
     ]
    }
   ],
   "source": [
    "print(\"True Positives: \", knn_cf_dt[1,1])\n",
    "print(\"False Positives: \", knn_cf_dt[0,1])\n",
    "print(\"True Negatives: \", knn_cf_dt[0,0])\n",
    "print(\"False Negatives: \", knn_cf_dt[1,0])"
   ]
  },
  {
   "cell_type": "code",
   "execution_count": 62,
   "metadata": {},
   "outputs": [
    {
     "name": "stdout",
     "output_type": "stream",
     "text": [
      "213500\n",
      "1067.5\n"
     ]
    }
   ],
   "source": [
    "cost = 3500*knn_cf_dt[0,1] + 4000*knn_cf_dt[1,0]\n",
    "print(cost)\n",
    "print(cost/yE_test.shape[0])"
   ]
  },
  {
   "cell_type": "markdown",
   "metadata": {},
   "source": [
    "# 2"
   ]
  },
  {
   "cell_type": "markdown",
   "metadata": {},
   "source": [
    "## 2.1"
   ]
  },
  {
   "cell_type": "code",
   "execution_count": 63,
   "metadata": {},
   "outputs": [
    {
     "data": {
      "text/html": [
       "<div>\n",
       "<style scoped>\n",
       "    .dataframe tbody tr th:only-of-type {\n",
       "        vertical-align: middle;\n",
       "    }\n",
       "\n",
       "    .dataframe tbody tr th {\n",
       "        vertical-align: top;\n",
       "    }\n",
       "\n",
       "    .dataframe thead th {\n",
       "        text-align: right;\n",
       "    }\n",
       "</style>\n",
       "<table border=\"1\" class=\"dataframe\">\n",
       "  <thead>\n",
       "    <tr style=\"text-align: right;\">\n",
       "      <th></th>\n",
       "      <th>Age</th>\n",
       "      <th>Years at Employer</th>\n",
       "      <th>Years at Address</th>\n",
       "      <th>Income</th>\n",
       "      <th>Credit Card Debt</th>\n",
       "      <th>Automobile Debt</th>\n",
       "      <th>Outcomes</th>\n",
       "      <th>Profit and Loss</th>\n",
       "    </tr>\n",
       "  </thead>\n",
       "  <tbody>\n",
       "    <tr>\n",
       "      <td>0</td>\n",
       "      <td>-0.260650</td>\n",
       "      <td>0.114167</td>\n",
       "      <td>-0.778815</td>\n",
       "      <td>-0.221391</td>\n",
       "      <td>-0.011446</td>\n",
       "      <td>0.211894</td>\n",
       "      <td>0</td>\n",
       "      <td>3206.433814</td>\n",
       "    </tr>\n",
       "    <tr>\n",
       "      <td>1</td>\n",
       "      <td>-0.010718</td>\n",
       "      <td>0.495792</td>\n",
       "      <td>1.139494</td>\n",
       "      <td>0.361981</td>\n",
       "      <td>-3.184888</td>\n",
       "      <td>-1.506080</td>\n",
       "      <td>1</td>\n",
       "      <td>2940.318213</td>\n",
       "    </tr>\n",
       "    <tr>\n",
       "      <td>2</td>\n",
       "      <td>0.369496</td>\n",
       "      <td>0.567691</td>\n",
       "      <td>-1.121509</td>\n",
       "      <td>0.262468</td>\n",
       "      <td>-2.106823</td>\n",
       "      <td>-0.205043</td>\n",
       "      <td>1</td>\n",
       "      <td>-1023.975604</td>\n",
       "    </tr>\n",
       "    <tr>\n",
       "      <td>3</td>\n",
       "      <td>-0.729186</td>\n",
       "      <td>-1.067134</td>\n",
       "      <td>1.708913</td>\n",
       "      <td>-0.595191</td>\n",
       "      <td>0.505837</td>\n",
       "      <td>0.531282</td>\n",
       "      <td>0</td>\n",
       "      <td>2944.657871</td>\n",
       "    </tr>\n",
       "    <tr>\n",
       "      <td>4</td>\n",
       "      <td>-0.250083</td>\n",
       "      <td>-0.166253</td>\n",
       "      <td>-0.881336</td>\n",
       "      <td>-0.490361</td>\n",
       "      <td>0.530939</td>\n",
       "      <td>0.800374</td>\n",
       "      <td>0</td>\n",
       "      <td>738.412843</td>\n",
       "    </tr>\n",
       "    <tr>\n",
       "      <td>...</td>\n",
       "      <td>...</td>\n",
       "      <td>...</td>\n",
       "      <td>...</td>\n",
       "      <td>...</td>\n",
       "      <td>...</td>\n",
       "      <td>...</td>\n",
       "      <td>...</td>\n",
       "      <td>...</td>\n",
       "    </tr>\n",
       "    <tr>\n",
       "      <td>195</td>\n",
       "      <td>0.917975</td>\n",
       "      <td>0.684569</td>\n",
       "      <td>-0.318363</td>\n",
       "      <td>0.213191</td>\n",
       "      <td>-0.504262</td>\n",
       "      <td>-0.671432</td>\n",
       "      <td>0</td>\n",
       "      <td>4653.443168</td>\n",
       "    </tr>\n",
       "    <tr>\n",
       "      <td>196</td>\n",
       "      <td>-1.227163</td>\n",
       "      <td>-0.117292</td>\n",
       "      <td>1.861881</td>\n",
       "      <td>-0.647416</td>\n",
       "      <td>0.570020</td>\n",
       "      <td>0.661930</td>\n",
       "      <td>0</td>\n",
       "      <td>-566.152505</td>\n",
       "    </tr>\n",
       "    <tr>\n",
       "      <td>197</td>\n",
       "      <td>-1.182574</td>\n",
       "      <td>-0.922105</td>\n",
       "      <td>-0.755907</td>\n",
       "      <td>-0.443476</td>\n",
       "      <td>0.451202</td>\n",
       "      <td>0.572421</td>\n",
       "      <td>0</td>\n",
       "      <td>2387.263503</td>\n",
       "    </tr>\n",
       "    <tr>\n",
       "      <td>198</td>\n",
       "      <td>0.523605</td>\n",
       "      <td>1.192563</td>\n",
       "      <td>-0.144719</td>\n",
       "      <td>1.395060</td>\n",
       "      <td>-0.000993</td>\n",
       "      <td>-2.602703</td>\n",
       "      <td>0</td>\n",
       "      <td>9315.851606</td>\n",
       "    </tr>\n",
       "    <tr>\n",
       "      <td>199</td>\n",
       "      <td>1.366064</td>\n",
       "      <td>1.151475</td>\n",
       "      <td>-1.239804</td>\n",
       "      <td>1.561383</td>\n",
       "      <td>0.515690</td>\n",
       "      <td>-0.012279</td>\n",
       "      <td>0</td>\n",
       "      <td>7935.225623</td>\n",
       "    </tr>\n",
       "  </tbody>\n",
       "</table>\n",
       "<p>200 rows × 8 columns</p>\n",
       "</div>"
      ],
      "text/plain": [
       "          Age   Years at Employer  Years at Address    Income  \\\n",
       "0   -0.260650            0.114167         -0.778815 -0.221391   \n",
       "1   -0.010718            0.495792          1.139494  0.361981   \n",
       "2    0.369496            0.567691         -1.121509  0.262468   \n",
       "3   -0.729186           -1.067134          1.708913 -0.595191   \n",
       "4   -0.250083           -0.166253         -0.881336 -0.490361   \n",
       "..        ...                 ...               ...       ...   \n",
       "195  0.917975            0.684569         -0.318363  0.213191   \n",
       "196 -1.227163           -0.117292          1.861881 -0.647416   \n",
       "197 -1.182574           -0.922105         -0.755907 -0.443476   \n",
       "198  0.523605            1.192563         -0.144719  1.395060   \n",
       "199  1.366064            1.151475         -1.239804  1.561383   \n",
       "\n",
       "     Credit Card Debt   Automobile Debt  Outcomes  Profit and Loss  \n",
       "0            -0.011446         0.211894         0      3206.433814  \n",
       "1            -3.184888        -1.506080         1      2940.318213  \n",
       "2            -2.106823        -0.205043         1     -1023.975604  \n",
       "3             0.505837         0.531282         0      2944.657871  \n",
       "4             0.530939         0.800374         0       738.412843  \n",
       "..                 ...              ...       ...              ...  \n",
       "195          -0.504262        -0.671432         0      4653.443168  \n",
       "196           0.570020         0.661930         0      -566.152505  \n",
       "197           0.451202         0.572421         0      2387.263503  \n",
       "198          -0.000993        -2.602703         0      9315.851606  \n",
       "199           0.515690        -0.012279         0      7935.225623  \n",
       "\n",
       "[200 rows x 8 columns]"
      ]
     },
     "execution_count": 63,
     "metadata": {},
     "output_type": "execute_result"
    }
   ],
   "source": [
    "df3 = pd.read_excel('PS5 - Credit Card Risk Data - Nov 2019 .xlsx', 'A2')\n",
    "df3"
   ]
  },
  {
   "cell_type": "code",
   "execution_count": 64,
   "metadata": {},
   "outputs": [
    {
     "data": {
      "text/html": [
       "<div>\n",
       "<style scoped>\n",
       "    .dataframe tbody tr th:only-of-type {\n",
       "        vertical-align: middle;\n",
       "    }\n",
       "\n",
       "    .dataframe tbody tr th {\n",
       "        vertical-align: top;\n",
       "    }\n",
       "\n",
       "    .dataframe thead th {\n",
       "        text-align: right;\n",
       "    }\n",
       "</style>\n",
       "<table border=\"1\" class=\"dataframe\">\n",
       "  <thead>\n",
       "    <tr style=\"text-align: right;\">\n",
       "      <th></th>\n",
       "      <th>Age</th>\n",
       "      <th>Years at Employer</th>\n",
       "      <th>Years at Address</th>\n",
       "      <th>Income</th>\n",
       "      <th>Credit Card Debt</th>\n",
       "      <th>Automobile Debt</th>\n",
       "      <th>Profit and Loss</th>\n",
       "    </tr>\n",
       "  </thead>\n",
       "  <tbody>\n",
       "    <tr>\n",
       "      <td>0</td>\n",
       "      <td>-1.087907</td>\n",
       "      <td>-1.231476</td>\n",
       "      <td>-0.976306</td>\n",
       "      <td>-0.938605</td>\n",
       "      <td>0.216962</td>\n",
       "      <td>0.347977</td>\n",
       "      <td>-9529.695740</td>\n",
       "    </tr>\n",
       "    <tr>\n",
       "      <td>1</td>\n",
       "      <td>-0.861508</td>\n",
       "      <td>-0.638356</td>\n",
       "      <td>-0.765494</td>\n",
       "      <td>-0.221249</td>\n",
       "      <td>-0.953226</td>\n",
       "      <td>0.440784</td>\n",
       "      <td>-2590.063991</td>\n",
       "    </tr>\n",
       "    <tr>\n",
       "      <td>2</td>\n",
       "      <td>0.292076</td>\n",
       "      <td>0.058467</td>\n",
       "      <td>-1.340763</td>\n",
       "      <td>-0.437207</td>\n",
       "      <td>0.018201</td>\n",
       "      <td>0.624745</td>\n",
       "      <td>2720.840722</td>\n",
       "    </tr>\n",
       "    <tr>\n",
       "      <td>3</td>\n",
       "      <td>-0.837194</td>\n",
       "      <td>-0.067750</td>\n",
       "      <td>0.397341</td>\n",
       "      <td>-0.845875</td>\n",
       "      <td>0.697892</td>\n",
       "      <td>0.613221</td>\n",
       "      <td>1014.830924</td>\n",
       "    </tr>\n",
       "    <tr>\n",
       "      <td>4</td>\n",
       "      <td>0.523237</td>\n",
       "      <td>-0.504215</td>\n",
       "      <td>-0.138256</td>\n",
       "      <td>-0.518949</td>\n",
       "      <td>0.522238</td>\n",
       "      <td>0.255239</td>\n",
       "      <td>2526.055048</td>\n",
       "    </tr>\n",
       "    <tr>\n",
       "      <td>...</td>\n",
       "      <td>...</td>\n",
       "      <td>...</td>\n",
       "      <td>...</td>\n",
       "      <td>...</td>\n",
       "      <td>...</td>\n",
       "      <td>...</td>\n",
       "      <td>...</td>\n",
       "    </tr>\n",
       "    <tr>\n",
       "      <td>195</td>\n",
       "      <td>1.782889</td>\n",
       "      <td>1.026228</td>\n",
       "      <td>-0.981405</td>\n",
       "      <td>0.649469</td>\n",
       "      <td>-0.031341</td>\n",
       "      <td>-1.007914</td>\n",
       "      <td>6130.183996</td>\n",
       "    </tr>\n",
       "    <tr>\n",
       "      <td>196</td>\n",
       "      <td>-1.347022</td>\n",
       "      <td>-0.853204</td>\n",
       "      <td>-0.208245</td>\n",
       "      <td>-0.798783</td>\n",
       "      <td>0.677807</td>\n",
       "      <td>0.868008</td>\n",
       "      <td>1049.813009</td>\n",
       "    </tr>\n",
       "    <tr>\n",
       "      <td>197</td>\n",
       "      <td>-0.251758</td>\n",
       "      <td>-0.709232</td>\n",
       "      <td>-0.122664</td>\n",
       "      <td>-0.469844</td>\n",
       "      <td>0.601749</td>\n",
       "      <td>0.318960</td>\n",
       "      <td>2826.399284</td>\n",
       "    </tr>\n",
       "    <tr>\n",
       "      <td>198</td>\n",
       "      <td>1.085565</td>\n",
       "      <td>0.730934</td>\n",
       "      <td>-1.236432</td>\n",
       "      <td>-0.079897</td>\n",
       "      <td>0.648910</td>\n",
       "      <td>0.506898</td>\n",
       "      <td>1899.646205</td>\n",
       "    </tr>\n",
       "    <tr>\n",
       "      <td>199</td>\n",
       "      <td>0.776078</td>\n",
       "      <td>-0.335879</td>\n",
       "      <td>0.979371</td>\n",
       "      <td>0.190564</td>\n",
       "      <td>0.414598</td>\n",
       "      <td>-0.617332</td>\n",
       "      <td>4353.242642</td>\n",
       "    </tr>\n",
       "  </tbody>\n",
       "</table>\n",
       "<p>200 rows × 7 columns</p>\n",
       "</div>"
      ],
      "text/plain": [
       "          Age   Years at Employer  Years at Address    Income  \\\n",
       "0   -1.087907           -1.231476         -0.976306 -0.938605   \n",
       "1   -0.861508           -0.638356         -0.765494 -0.221249   \n",
       "2    0.292076            0.058467         -1.340763 -0.437207   \n",
       "3   -0.837194           -0.067750          0.397341 -0.845875   \n",
       "4    0.523237           -0.504215         -0.138256 -0.518949   \n",
       "..        ...                 ...               ...       ...   \n",
       "195  1.782889            1.026228         -0.981405  0.649469   \n",
       "196 -1.347022           -0.853204         -0.208245 -0.798783   \n",
       "197 -0.251758           -0.709232         -0.122664 -0.469844   \n",
       "198  1.085565            0.730934         -1.236432 -0.079897   \n",
       "199  0.776078           -0.335879          0.979371  0.190564   \n",
       "\n",
       "     Credit Card Debt   Automobile Debt  Profit and Loss  \n",
       "0             0.216962         0.347977     -9529.695740  \n",
       "1            -0.953226         0.440784     -2590.063991  \n",
       "2             0.018201         0.624745      2720.840722  \n",
       "3             0.697892         0.613221      1014.830924  \n",
       "4             0.522238         0.255239      2526.055048  \n",
       "..                 ...              ...              ...  \n",
       "195          -0.031341        -1.007914      6130.183996  \n",
       "196           0.677807         0.868008      1049.813009  \n",
       "197           0.601749         0.318960      2826.399284  \n",
       "198           0.648910         0.506898      1899.646205  \n",
       "199           0.414598        -0.617332      4353.242642  \n",
       "\n",
       "[200 rows x 7 columns]"
      ]
     },
     "execution_count": 64,
     "metadata": {},
     "output_type": "execute_result"
    }
   ],
   "source": [
    "df3t = pd.read_excel('PS5 - Credit Card Risk Data - Nov 2019 .xlsx', 'A3')\n",
    "df3t"
   ]
  },
  {
   "cell_type": "code",
   "execution_count": 67,
   "metadata": {},
   "outputs": [],
   "source": [
    "X3_train = df3.drop([\"Profit and Loss\"], axis=1).values\n",
    "y3_train = df3['Profit and Loss'].values\n",
    "X3_test = df3t.drop([\"Profit and Loss\"], axis=1).values\n",
    "y3_test = df3t[\"Profit and Loss\"].values"
   ]
  },
  {
   "cell_type": "code",
   "execution_count": 68,
   "metadata": {},
   "outputs": [
    {
     "data": {
      "text/plain": [
       "0.9715630823183197"
      ]
     },
     "execution_count": 68,
     "metadata": {},
     "output_type": "execute_result"
    }
   ],
   "source": [
    "model = LinearRegression()                         # instantiate model\n",
    "model.fit(X3_train, y3_train)                        # fit model\n",
    "y3_pred = model.predict(X3_train)                     # predict using model\n",
    "model.score(X3_train, y3_train)                        # r^2"
   ]
  },
  {
   "cell_type": "code",
   "execution_count": 69,
   "metadata": {},
   "outputs": [
    {
     "data": {
      "text/plain": [
       "970.6331919111357"
      ]
     },
     "execution_count": 69,
     "metadata": {},
     "output_type": "execute_result"
    }
   ],
   "source": [
    "from math import sqrt\n",
    "rms_train = sqrt(metrics.mean_squared_error(y3_train, y3_pred))\n",
    "rms_train"
   ]
  },
  {
   "cell_type": "code",
   "execution_count": 62,
   "metadata": {},
   "outputs": [],
   "source": [
    "# import \n",
    "dfp = pd.read_excel('PS5 - Credit Card Risk Data - Nov 2019 .xlsx', 'PNLT')\n",
    "dfpt = pd.read_excel('PS5 - Credit Card Risk Data - Nov 2019 .xlsx', 'PNLTE')"
   ]
  },
  {
   "cell_type": "code",
   "execution_count": 206,
   "metadata": {},
   "outputs": [
    {
     "data": {
      "text/html": [
       "<div>\n",
       "<style scoped>\n",
       "    .dataframe tbody tr th:only-of-type {\n",
       "        vertical-align: middle;\n",
       "    }\n",
       "\n",
       "    .dataframe tbody tr th {\n",
       "        vertical-align: top;\n",
       "    }\n",
       "\n",
       "    .dataframe thead th {\n",
       "        text-align: right;\n",
       "    }\n",
       "</style>\n",
       "<table border=\"1\" class=\"dataframe\">\n",
       "  <thead>\n",
       "    <tr style=\"text-align: right;\">\n",
       "      <th></th>\n",
       "      <th>Age</th>\n",
       "      <th>Years at Employer</th>\n",
       "      <th>Years at Address</th>\n",
       "      <th>Income</th>\n",
       "      <th>Credit Card Debt</th>\n",
       "      <th>Automobile Debt</th>\n",
       "      <th>Eggertopia Scores</th>\n",
       "      <th>Profit and Loss</th>\n",
       "      <th>Hybrid1</th>\n",
       "      <th>Hybrid2</th>\n",
       "      <th>Hybrid3</th>\n",
       "    </tr>\n",
       "  </thead>\n",
       "  <tbody>\n",
       "    <tr>\n",
       "      <td>0</td>\n",
       "      <td>-0.260650</td>\n",
       "      <td>0.114167</td>\n",
       "      <td>-0.778815</td>\n",
       "      <td>-0.221391</td>\n",
       "      <td>-0.011446</td>\n",
       "      <td>0.211894</td>\n",
       "      <td>215.227394</td>\n",
       "      <td>3206.433814</td>\n",
       "      <td>-0.232836</td>\n",
       "      <td>0.326061</td>\n",
       "      <td>0.334675</td>\n",
       "    </tr>\n",
       "    <tr>\n",
       "      <td>1</td>\n",
       "      <td>-0.010718</td>\n",
       "      <td>0.495792</td>\n",
       "      <td>1.139494</td>\n",
       "      <td>0.361981</td>\n",
       "      <td>-3.184888</td>\n",
       "      <td>-1.506080</td>\n",
       "      <td>4387.395317</td>\n",
       "      <td>2940.318213</td>\n",
       "      <td>-2.822907</td>\n",
       "      <td>-1.010287</td>\n",
       "      <td>-0.009406</td>\n",
       "    </tr>\n",
       "    <tr>\n",
       "      <td>2</td>\n",
       "      <td>0.369496</td>\n",
       "      <td>0.567691</td>\n",
       "      <td>-1.121509</td>\n",
       "      <td>0.262468</td>\n",
       "      <td>-2.106823</td>\n",
       "      <td>-0.205043</td>\n",
       "      <td>3653.976974</td>\n",
       "      <td>-1023.975604</td>\n",
       "      <td>-1.844355</td>\n",
       "      <td>0.362648</td>\n",
       "      <td>-0.329464</td>\n",
       "    </tr>\n",
       "    <tr>\n",
       "      <td>3</td>\n",
       "      <td>-0.729186</td>\n",
       "      <td>-1.067134</td>\n",
       "      <td>1.708913</td>\n",
       "      <td>-0.595191</td>\n",
       "      <td>0.505837</td>\n",
       "      <td>0.531282</td>\n",
       "      <td>3005.809349</td>\n",
       "      <td>2944.657871</td>\n",
       "      <td>-0.089353</td>\n",
       "      <td>-0.535852</td>\n",
       "      <td>-0.426696</td>\n",
       "    </tr>\n",
       "    <tr>\n",
       "      <td>4</td>\n",
       "      <td>-0.250083</td>\n",
       "      <td>-0.166253</td>\n",
       "      <td>-0.881336</td>\n",
       "      <td>-0.490361</td>\n",
       "      <td>0.530939</td>\n",
       "      <td>0.800374</td>\n",
       "      <td>176.383592</td>\n",
       "      <td>738.412843</td>\n",
       "      <td>0.040578</td>\n",
       "      <td>0.634121</td>\n",
       "      <td>0.283755</td>\n",
       "    </tr>\n",
       "  </tbody>\n",
       "</table>\n",
       "</div>"
      ],
      "text/plain": [
       "        Age   Years at Employer  Years at Address    Income  \\\n",
       "0 -0.260650            0.114167         -0.778815 -0.221391   \n",
       "1 -0.010718            0.495792          1.139494  0.361981   \n",
       "2  0.369496            0.567691         -1.121509  0.262468   \n",
       "3 -0.729186           -1.067134          1.708913 -0.595191   \n",
       "4 -0.250083           -0.166253         -0.881336 -0.490361   \n",
       "\n",
       "   Credit Card Debt   Automobile Debt  Eggertopia Scores   Profit and Loss  \\\n",
       "0          -0.011446         0.211894          215.227394      3206.433814   \n",
       "1          -3.184888        -1.506080         4387.395317      2940.318213   \n",
       "2          -2.106823        -0.205043         3653.976974     -1023.975604   \n",
       "3           0.505837         0.531282         3005.809349      2944.657871   \n",
       "4           0.530939         0.800374          176.383592       738.412843   \n",
       "\n",
       "    Hybrid1   Hybrid2   Hybrid3  \n",
       "0 -0.232836  0.326061  0.334675  \n",
       "1 -2.822907 -1.010287 -0.009406  \n",
       "2 -1.844355  0.362648 -0.329464  \n",
       "3 -0.089353 -0.535852 -0.426696  \n",
       "4  0.040578  0.634121  0.283755  "
      ]
     },
     "execution_count": 206,
     "metadata": {},
     "output_type": "execute_result"
    }
   ],
   "source": [
    "dfp.head()"
   ]
  },
  {
   "cell_type": "code",
   "execution_count": 64,
   "metadata": {},
   "outputs": [],
   "source": [
    "dfp = dfp.drop(\"Standardized\", axis=1)\n",
    "dfpt = dfpt.drop(\"Standardized\", axis=1)"
   ]
  },
  {
   "cell_type": "code",
   "execution_count": 207,
   "metadata": {},
   "outputs": [
    {
     "data": {
      "text/plain": [
       "Index([' Age', ' Years at Employer', 'Years at Address', 'Income',\n",
       "       'Credit Card Debt ', 'Automobile Debt', 'Eggertopia Scores ',\n",
       "       'Profit and Loss', 'Hybrid1', 'Hybrid2', 'Hybrid3'],\n",
       "      dtype='object')"
      ]
     },
     "execution_count": 207,
     "metadata": {},
     "output_type": "execute_result"
    }
   ],
   "source": [
    "dfp.columns"
   ]
  },
  {
   "cell_type": "code",
   "execution_count": 66,
   "metadata": {},
   "outputs": [
    {
     "data": {
      "text/plain": [
       "Index([' Age', ' Years at Employer', 'Years at Address', 'Income',\n",
       "       'Credit Card Debt ', 'Automobile Debt', 'Eggertopia Scores ',\n",
       "       'Profit and Loss'],\n",
       "      dtype='object')"
      ]
     },
     "execution_count": 66,
     "metadata": {},
     "output_type": "execute_result"
    }
   ],
   "source": [
    "dfpt.columns"
   ]
  },
  {
   "cell_type": "code",
   "execution_count": 67,
   "metadata": {},
   "outputs": [],
   "source": [
    "X2_train = dfp.drop([\"Profit and Loss\", \"Eggertopia Scores \"], axis=1).values\n",
    "y2_train = dfp['Profit and Loss'].values\n",
    "X2_test = dfpt.drop([\"Profit and Loss\", \"Eggertopia Scores \"], axis=1).values\n",
    "y2_test = dfpt['Profit and Loss'].values"
   ]
  },
  {
   "cell_type": "code",
   "execution_count": 209,
   "metadata": {},
   "outputs": [
    {
     "data": {
      "text/plain": [
       "0.26009539449329333"
      ]
     },
     "execution_count": 209,
     "metadata": {},
     "output_type": "execute_result"
    }
   ],
   "source": [
    "model = LinearRegression()                         # instantiate model\n",
    "model.fit(X_train, y_train)                        # fit model\n",
    "y_pred = model.predict(X_train)                     # predict using model\n",
    "model.score(X_train, y_train)                        # r^2"
   ]
  },
  {
   "cell_type": "code",
   "execution_count": 210,
   "metadata": {},
   "outputs": [
    {
     "data": {
      "text/plain": [
       "0.3724676006480396"
      ]
     },
     "execution_count": 210,
     "metadata": {},
     "output_type": "execute_result"
    }
   ],
   "source": [
    "from math import sqrt\n",
    "rms_train = sqrt(metrics.mean_squared_error(y_train, y_pred))\n",
    "rms_train"
   ]
  },
  {
   "cell_type": "markdown",
   "metadata": {},
   "source": [
    "## 2.2"
   ]
  },
  {
   "cell_type": "code",
   "execution_count": 204,
   "metadata": {},
   "outputs": [],
   "source": [
    "dfp['Hybrid1'] = dfp['Income']+dfp['Credit Card Debt ']\n",
    "dfp['Hybrid2'] = dfp['Automobile Debt']+dfp[' Years at Employer']\n",
    "dfp['Hybrid3'] = dfp[' Age']/dfp['Years at Address']"
   ]
  },
  {
   "cell_type": "code",
   "execution_count": 208,
   "metadata": {},
   "outputs": [
    {
     "data": {
      "text/html": [
       "<div>\n",
       "<style scoped>\n",
       "    .dataframe tbody tr th:only-of-type {\n",
       "        vertical-align: middle;\n",
       "    }\n",
       "\n",
       "    .dataframe tbody tr th {\n",
       "        vertical-align: top;\n",
       "    }\n",
       "\n",
       "    .dataframe thead th {\n",
       "        text-align: right;\n",
       "    }\n",
       "</style>\n",
       "<table border=\"1\" class=\"dataframe\">\n",
       "  <thead>\n",
       "    <tr style=\"text-align: right;\">\n",
       "      <th></th>\n",
       "      <th>Age</th>\n",
       "      <th>Years at Employer</th>\n",
       "      <th>Years at Address</th>\n",
       "      <th>Income</th>\n",
       "      <th>Credit Card Debt</th>\n",
       "      <th>Automobile Debt</th>\n",
       "      <th>Eggertopia Scores</th>\n",
       "      <th>Profit and Loss</th>\n",
       "      <th>Hybrid1</th>\n",
       "      <th>Hybrid2</th>\n",
       "      <th>Hybrid3</th>\n",
       "    </tr>\n",
       "  </thead>\n",
       "  <tbody>\n",
       "    <tr>\n",
       "      <td>0</td>\n",
       "      <td>-0.260650</td>\n",
       "      <td>0.114167</td>\n",
       "      <td>-0.778815</td>\n",
       "      <td>-0.221391</td>\n",
       "      <td>-0.011446</td>\n",
       "      <td>0.211894</td>\n",
       "      <td>215.227394</td>\n",
       "      <td>3206.433814</td>\n",
       "      <td>-0.232836</td>\n",
       "      <td>0.326061</td>\n",
       "      <td>0.334675</td>\n",
       "    </tr>\n",
       "    <tr>\n",
       "      <td>1</td>\n",
       "      <td>-0.010718</td>\n",
       "      <td>0.495792</td>\n",
       "      <td>1.139494</td>\n",
       "      <td>0.361981</td>\n",
       "      <td>-3.184888</td>\n",
       "      <td>-1.506080</td>\n",
       "      <td>4387.395317</td>\n",
       "      <td>2940.318213</td>\n",
       "      <td>-2.822907</td>\n",
       "      <td>-1.010287</td>\n",
       "      <td>-0.009406</td>\n",
       "    </tr>\n",
       "    <tr>\n",
       "      <td>2</td>\n",
       "      <td>0.369496</td>\n",
       "      <td>0.567691</td>\n",
       "      <td>-1.121509</td>\n",
       "      <td>0.262468</td>\n",
       "      <td>-2.106823</td>\n",
       "      <td>-0.205043</td>\n",
       "      <td>3653.976974</td>\n",
       "      <td>-1023.975604</td>\n",
       "      <td>-1.844355</td>\n",
       "      <td>0.362648</td>\n",
       "      <td>-0.329464</td>\n",
       "    </tr>\n",
       "    <tr>\n",
       "      <td>3</td>\n",
       "      <td>-0.729186</td>\n",
       "      <td>-1.067134</td>\n",
       "      <td>1.708913</td>\n",
       "      <td>-0.595191</td>\n",
       "      <td>0.505837</td>\n",
       "      <td>0.531282</td>\n",
       "      <td>3005.809349</td>\n",
       "      <td>2944.657871</td>\n",
       "      <td>-0.089353</td>\n",
       "      <td>-0.535852</td>\n",
       "      <td>-0.426696</td>\n",
       "    </tr>\n",
       "    <tr>\n",
       "      <td>4</td>\n",
       "      <td>-0.250083</td>\n",
       "      <td>-0.166253</td>\n",
       "      <td>-0.881336</td>\n",
       "      <td>-0.490361</td>\n",
       "      <td>0.530939</td>\n",
       "      <td>0.800374</td>\n",
       "      <td>176.383592</td>\n",
       "      <td>738.412843</td>\n",
       "      <td>0.040578</td>\n",
       "      <td>0.634121</td>\n",
       "      <td>0.283755</td>\n",
       "    </tr>\n",
       "    <tr>\n",
       "      <td>...</td>\n",
       "      <td>...</td>\n",
       "      <td>...</td>\n",
       "      <td>...</td>\n",
       "      <td>...</td>\n",
       "      <td>...</td>\n",
       "      <td>...</td>\n",
       "      <td>...</td>\n",
       "      <td>...</td>\n",
       "      <td>...</td>\n",
       "      <td>...</td>\n",
       "      <td>...</td>\n",
       "    </tr>\n",
       "    <tr>\n",
       "      <td>195</td>\n",
       "      <td>0.917975</td>\n",
       "      <td>0.684569</td>\n",
       "      <td>-0.318363</td>\n",
       "      <td>0.213191</td>\n",
       "      <td>-0.504262</td>\n",
       "      <td>-0.671432</td>\n",
       "      <td>665.975665</td>\n",
       "      <td>4653.443168</td>\n",
       "      <td>-0.291071</td>\n",
       "      <td>0.013137</td>\n",
       "      <td>-2.883417</td>\n",
       "    </tr>\n",
       "    <tr>\n",
       "      <td>196</td>\n",
       "      <td>-1.227163</td>\n",
       "      <td>-0.117292</td>\n",
       "      <td>1.861881</td>\n",
       "      <td>-0.647416</td>\n",
       "      <td>0.570020</td>\n",
       "      <td>0.661930</td>\n",
       "      <td>860.723089</td>\n",
       "      <td>-566.152505</td>\n",
       "      <td>-0.077396</td>\n",
       "      <td>0.544638</td>\n",
       "      <td>-0.659099</td>\n",
       "    </tr>\n",
       "    <tr>\n",
       "      <td>197</td>\n",
       "      <td>-1.182574</td>\n",
       "      <td>-0.922105</td>\n",
       "      <td>-0.755907</td>\n",
       "      <td>-0.443476</td>\n",
       "      <td>0.451202</td>\n",
       "      <td>0.572421</td>\n",
       "      <td>1380.840050</td>\n",
       "      <td>2387.263503</td>\n",
       "      <td>0.007726</td>\n",
       "      <td>-0.349685</td>\n",
       "      <td>1.564444</td>\n",
       "    </tr>\n",
       "    <tr>\n",
       "      <td>198</td>\n",
       "      <td>0.523605</td>\n",
       "      <td>1.192563</td>\n",
       "      <td>-0.144719</td>\n",
       "      <td>1.395060</td>\n",
       "      <td>-0.000993</td>\n",
       "      <td>-2.602703</td>\n",
       "      <td>457.662212</td>\n",
       "      <td>9315.851606</td>\n",
       "      <td>1.394067</td>\n",
       "      <td>-1.410139</td>\n",
       "      <td>-3.618090</td>\n",
       "    </tr>\n",
       "    <tr>\n",
       "      <td>199</td>\n",
       "      <td>1.366064</td>\n",
       "      <td>1.151475</td>\n",
       "      <td>-1.239804</td>\n",
       "      <td>1.561383</td>\n",
       "      <td>0.515690</td>\n",
       "      <td>-0.012279</td>\n",
       "      <td>318.892999</td>\n",
       "      <td>7935.225623</td>\n",
       "      <td>2.077074</td>\n",
       "      <td>1.139196</td>\n",
       "      <td>-1.101839</td>\n",
       "    </tr>\n",
       "  </tbody>\n",
       "</table>\n",
       "<p>200 rows × 11 columns</p>\n",
       "</div>"
      ],
      "text/plain": [
       "          Age   Years at Employer  Years at Address    Income  \\\n",
       "0   -0.260650            0.114167         -0.778815 -0.221391   \n",
       "1   -0.010718            0.495792          1.139494  0.361981   \n",
       "2    0.369496            0.567691         -1.121509  0.262468   \n",
       "3   -0.729186           -1.067134          1.708913 -0.595191   \n",
       "4   -0.250083           -0.166253         -0.881336 -0.490361   \n",
       "..        ...                 ...               ...       ...   \n",
       "195  0.917975            0.684569         -0.318363  0.213191   \n",
       "196 -1.227163           -0.117292          1.861881 -0.647416   \n",
       "197 -1.182574           -0.922105         -0.755907 -0.443476   \n",
       "198  0.523605            1.192563         -0.144719  1.395060   \n",
       "199  1.366064            1.151475         -1.239804  1.561383   \n",
       "\n",
       "     Credit Card Debt   Automobile Debt  Eggertopia Scores   Profit and Loss  \\\n",
       "0            -0.011446         0.211894          215.227394      3206.433814   \n",
       "1            -3.184888        -1.506080         4387.395317      2940.318213   \n",
       "2            -2.106823        -0.205043         3653.976974     -1023.975604   \n",
       "3             0.505837         0.531282         3005.809349      2944.657871   \n",
       "4             0.530939         0.800374          176.383592       738.412843   \n",
       "..                 ...              ...                 ...              ...   \n",
       "195          -0.504262        -0.671432          665.975665      4653.443168   \n",
       "196           0.570020         0.661930          860.723089      -566.152505   \n",
       "197           0.451202         0.572421         1380.840050      2387.263503   \n",
       "198          -0.000993        -2.602703          457.662212      9315.851606   \n",
       "199           0.515690        -0.012279          318.892999      7935.225623   \n",
       "\n",
       "      Hybrid1   Hybrid2   Hybrid3  \n",
       "0   -0.232836  0.326061  0.334675  \n",
       "1   -2.822907 -1.010287 -0.009406  \n",
       "2   -1.844355  0.362648 -0.329464  \n",
       "3   -0.089353 -0.535852 -0.426696  \n",
       "4    0.040578  0.634121  0.283755  \n",
       "..        ...       ...       ...  \n",
       "195 -0.291071  0.013137 -2.883417  \n",
       "196 -0.077396  0.544638 -0.659099  \n",
       "197  0.007726 -0.349685  1.564444  \n",
       "198  1.394067 -1.410139 -3.618090  \n",
       "199  2.077074  1.139196 -1.101839  \n",
       "\n",
       "[200 rows x 11 columns]"
      ]
     },
     "execution_count": 208,
     "metadata": {},
     "output_type": "execute_result"
    }
   ],
   "source": [
    "dfp"
   ]
  },
  {
   "cell_type": "code",
   "execution_count": 205,
   "metadata": {},
   "outputs": [],
   "source": [
    "dfpt['Hybrid1'] = dfpt['Income']+dfpt['Credit Card Debt ']\n",
    "dfpt['Hybrid2'] = dfpt['Automobile Debt']+dfpt[' Years at Employer']\n",
    "dfpt['Hybrid3'] = dfpt[' Age']/dfpt['Years at Address']"
   ]
  },
  {
   "cell_type": "code",
   "execution_count": 72,
   "metadata": {},
   "outputs": [],
   "source": [
    "X_train = dfp.drop([\"Profit and Loss\", \"Eggertopia Scores \"], axis=1).values\n",
    "y_train = dfp['Profit and Loss'].values\n",
    "X_test = dfpt.drop([\"Profit and Loss\", \"Eggertopia Scores \"], axis=1).values\n",
    "y_test = dfpt['Profit and Loss'].values"
   ]
  },
  {
   "cell_type": "code",
   "execution_count": 73,
   "metadata": {},
   "outputs": [
    {
     "data": {
      "text/plain": [
       "0.655338418791888"
      ]
     },
     "execution_count": 73,
     "metadata": {},
     "output_type": "execute_result"
    }
   ],
   "source": [
    "model = LinearRegression()                         # instantiate model\n",
    "model.fit(X_train, y_train)                        # fit model\n",
    "y_pred = model.predict(X_train)                     # predict using model\n",
    "model.score(X_train, y_train)                        # r^2"
   ]
  },
  {
   "cell_type": "code",
   "execution_count": 74,
   "metadata": {},
   "outputs": [
    {
     "data": {
      "text/plain": [
       "3379.172141070109"
      ]
     },
     "execution_count": 74,
     "metadata": {},
     "output_type": "execute_result"
    }
   ],
   "source": [
    "from math import sqrt\n",
    "rms_train = sqrt(metrics.mean_squared_error(y_train, y_pred))\n",
    "rms_train"
   ]
  },
  {
   "cell_type": "code",
   "execution_count": 75,
   "metadata": {},
   "outputs": [
    {
     "data": {
      "text/plain": [
       "array([   48.67758076,   726.95641745,  -379.96608375,  2562.03166738,\n",
       "       -1440.67989753,  -374.00200305,  1121.35176985,   352.95441441,\n",
       "          -4.85883012])"
      ]
     },
     "execution_count": 75,
     "metadata": {},
     "output_type": "execute_result"
    }
   ],
   "source": [
    "model.coef_"
   ]
  },
  {
   "cell_type": "markdown",
   "metadata": {},
   "source": [
    "## 2.3"
   ]
  },
  {
   "cell_type": "code",
   "execution_count": 76,
   "metadata": {},
   "outputs": [],
   "source": [
    "# train\n",
    "knn = neighbors.KNeighborsRegressor(n_neighbors=5).fit(X_train, y_train)"
   ]
  },
  {
   "cell_type": "code",
   "execution_count": 77,
   "metadata": {},
   "outputs": [
    {
     "data": {
      "text/plain": [
       "0.5723243368286475"
      ]
     },
     "execution_count": 77,
     "metadata": {},
     "output_type": "execute_result"
    }
   ],
   "source": [
    "# predict\n",
    "#R square\n",
    "r_squared = knn.score(X_train,y_train)\n",
    "r_squared"
   ]
  },
  {
   "cell_type": "code",
   "execution_count": 78,
   "metadata": {},
   "outputs": [
    {
     "data": {
      "text/plain": [
       "3764.186621098453"
      ]
     },
     "execution_count": 78,
     "metadata": {},
     "output_type": "execute_result"
    }
   ],
   "source": [
    "knn_train_pred_dt = knn.predict(X_train)\n",
    "rms_train = sqrt(metrics.mean_squared_error(y_train, knn_train_pred_dt))\n",
    "rms_train"
   ]
  },
  {
   "cell_type": "markdown",
   "metadata": {},
   "source": [
    "### 2.3 Part 2"
   ]
  },
  {
   "cell_type": "code",
   "execution_count": 79,
   "metadata": {},
   "outputs": [],
   "source": [
    "# choose threshold\n",
    "threshold = y_pred.mean()\n",
    "#threshold = 0\n",
    "\n",
    "\n"
   ]
  },
  {
   "cell_type": "code",
   "execution_count": 80,
   "metadata": {},
   "outputs": [
    {
     "data": {
      "text/plain": [
       "1905.512640954781"
      ]
     },
     "execution_count": 80,
     "metadata": {},
     "output_type": "execute_result"
    }
   ],
   "source": [
    "threshold"
   ]
  },
  {
   "cell_type": "code",
   "execution_count": 81,
   "metadata": {},
   "outputs": [
    {
     "name": "stdout",
     "output_type": "stream",
     "text": [
      "Total profit: 583644.71\n",
      "Average profit: 2918.22\n"
     ]
    }
   ],
   "source": [
    "# filter Profit and Loss using on threshold\n",
    "print(\"Total profit: {:.2f}\".format(sum(dfp['Profit and Loss'][dfp['Profit and Loss'] > threshold])))\n",
    "print(\"Average profit: {:.2f}\".format(sum(dfp['Profit and Loss'][dfp['Profit and Loss'] > threshold])/y_train.shape[0]))"
   ]
  },
  {
   "cell_type": "markdown",
   "metadata": {},
   "source": [
    "## 2.4"
   ]
  },
  {
   "cell_type": "code",
   "execution_count": 82,
   "metadata": {},
   "outputs": [
    {
     "data": {
      "text/plain": [
       "0.41646072243773596"
      ]
     },
     "execution_count": 82,
     "metadata": {},
     "output_type": "execute_result"
    }
   ],
   "source": [
    "y_pred = model.predict(X_test)                     # predict using model\n",
    "model.score(X_test, y_test)                        # r^2"
   ]
  },
  {
   "cell_type": "code",
   "execution_count": 83,
   "metadata": {},
   "outputs": [
    {
     "data": {
      "text/plain": [
       "3886.40511973568"
      ]
     },
     "execution_count": 83,
     "metadata": {},
     "output_type": "execute_result"
    }
   ],
   "source": [
    "rms_train = sqrt(metrics.mean_squared_error(y_test, y_pred))\n",
    "rms_train"
   ]
  },
  {
   "cell_type": "code",
   "execution_count": 84,
   "metadata": {},
   "outputs": [
    {
     "name": "stdout",
     "output_type": "stream",
     "text": [
      "Total profit: 498987.24\n",
      "Average profit: 2494.94\n"
     ]
    }
   ],
   "source": [
    "print(\"Total profit: {:.2f}\".format(sum(dfpt['Profit and Loss'][dfpt['Profit and Loss'] > threshold])))\n",
    "print(\"Average profit: {:.2f}\".format(sum(dfpt['Profit and Loss'][dfpt['Profit and Loss'] > threshold])/y_test.shape[0]))"
   ]
  },
  {
   "cell_type": "markdown",
   "metadata": {},
   "source": [
    "## 2.5"
   ]
  },
  {
   "cell_type": "code",
   "execution_count": 85,
   "metadata": {},
   "outputs": [],
   "source": [
    "X_train = dfp.drop([\"Profit and Loss\"], axis=1).values\n",
    "y_train = dfp['Profit and Loss'].values\n",
    "X_test = dfpt.drop([\"Profit and Loss\"], axis=1).values\n",
    "y_test = dfpt['Profit and Loss'].values"
   ]
  },
  {
   "cell_type": "code",
   "execution_count": 86,
   "metadata": {},
   "outputs": [
    {
     "data": {
      "text/plain": [
       "0.6858078989397289"
      ]
     },
     "execution_count": 86,
     "metadata": {},
     "output_type": "execute_result"
    }
   ],
   "source": [
    "model = LinearRegression()                         # instantiate model\n",
    "model.fit(X_train, y_train)                        # fit model\n",
    "y_pred = model.predict(X_train)                     # predict using model\n",
    "model.score(X_train, y_train)                        # r^2"
   ]
  },
  {
   "cell_type": "code",
   "execution_count": 87,
   "metadata": {},
   "outputs": [
    {
     "data": {
      "text/plain": [
       "Index([' Age', ' Years at Employer', 'Years at Address', 'Income',\n",
       "       'Credit Card Debt ', 'Automobile Debt', 'Eggertopia Scores ',\n",
       "       'Profit and Loss', 'Hybrid1', 'Hybrid2', 'Hybrid3'],\n",
       "      dtype='object')"
      ]
     },
     "execution_count": 87,
     "metadata": {},
     "output_type": "execute_result"
    }
   ],
   "source": [
    "dfp.columns"
   ]
  },
  {
   "cell_type": "code",
   "execution_count": 88,
   "metadata": {},
   "outputs": [
    {
     "data": {
      "text/plain": [
       "array([-2.16116793e+02,  4.18696250e+01, -3.48794623e+02,  2.67573081e+03,\n",
       "       -2.14401343e+03, -2.87803798e+02, -1.55939681e+00,  5.31717378e+02,\n",
       "       -2.45934173e+02,  3.72601417e+00])"
      ]
     },
     "execution_count": 88,
     "metadata": {},
     "output_type": "execute_result"
    }
   ],
   "source": [
    "model.coef_"
   ]
  },
  {
   "cell_type": "code",
   "execution_count": 89,
   "metadata": {},
   "outputs": [
    {
     "data": {
      "text/plain": [
       "3226.3502276210597"
      ]
     },
     "execution_count": 89,
     "metadata": {},
     "output_type": "execute_result"
    }
   ],
   "source": [
    "from math import sqrt\n",
    "rms_train = sqrt(metrics.mean_squared_error(y_train, y_pred))\n",
    "rms_train"
   ]
  },
  {
   "cell_type": "code",
   "execution_count": 90,
   "metadata": {},
   "outputs": [],
   "source": [
    "threshold = y_pred.mean()"
   ]
  },
  {
   "cell_type": "code",
   "execution_count": 91,
   "metadata": {},
   "outputs": [
    {
     "name": "stdout",
     "output_type": "stream",
     "text": [
      "Total profit: 583644.71\n",
      "Average profit: 2918.22\n"
     ]
    }
   ],
   "source": [
    "print(\"Total profit: {:.2f}\".format(sum(dfp['Profit and Loss'][dfp['Profit and Loss'] > threshold])))\n",
    "print(\"Average profit: {:.2f}\".format(sum(dfp['Profit and Loss'][dfp['Profit and Loss'] > threshold])/y_train.shape[0]))"
   ]
  },
  {
   "cell_type": "code",
   "execution_count": 92,
   "metadata": {},
   "outputs": [],
   "source": [
    "# Eggertopia worth"
   ]
  },
  {
   "cell_type": "code",
   "execution_count": 93,
   "metadata": {},
   "outputs": [
    {
     "data": {
      "text/plain": [
       "1905.5126409547818"
      ]
     },
     "execution_count": 93,
     "metadata": {},
     "output_type": "execute_result"
    }
   ],
   "source": [
    "threshold"
   ]
  }
 ],
 "metadata": {
  "kernelspec": {
   "display_name": "Python 3",
   "language": "python",
   "name": "python3"
  },
  "language_info": {
   "codemirror_mode": {
    "name": "ipython",
    "version": 3
   },
   "file_extension": ".py",
   "mimetype": "text/x-python",
   "name": "python",
   "nbconvert_exporter": "python",
   "pygments_lexer": "ipython3",
   "version": "3.7.4"
  }
 },
 "nbformat": 4,
 "nbformat_minor": 4
}
